{
 "cells": [
  {
   "cell_type": "markdown",
   "metadata": {},
   "source": [
    "# Basic Optickle Modeling of a Fabry Perot Cavity\n",
    "\n",
    "This notebook makes a simple Fabry Perot cavity in Optickle and computes the frequency response and response to sweeping drives. State space and zpk representations of the optomechanical plant are computed at the end.\n",
    "\n",
    "[__1.__](#model) Model definition\n",
    "\n",
    "[__2.__](#frequency-response) Compute the frequency response\n",
    "\n",
    "[__3.__](#sweep) Compute the response to sweeping drives\n",
    "\n",
    "[__4.__](#ss-zpk) Find state space and zpk representations of the optomechanical plant\n",
    "\n",
    "The BasicFinesseFP notebook goes through the identical calculations with Finesse."
   ]
  },
  {
   "cell_type": "markdown",
   "metadata": {},
   "source": [
    "#### Python MATLAB engine\n",
    "The Python MATLAB engine needs to be initialized before using Optickle. This takes a few seconds but only needs to be done once."
   ]
  },
  {
   "cell_type": "code",
   "execution_count": null,
   "metadata": {},
   "outputs": [],
   "source": [
    "import matlab.engine\n",
    "eng = matlab.engine.start_matlab()"
   ]
  },
  {
   "cell_type": "code",
   "execution_count": null,
   "metadata": {},
   "outputs": [],
   "source": [
    "import numpy as np\n",
    "import qlance.optickle as pyt\n",
    "from qlance.plotting import plotTF\n",
    "from qlance.controls import DegreeOfFreedom\n",
    "import matplotlib as mpl\n",
    "import matplotlib.pyplot as plt\n",
    "import scipy.constants as scc\n",
    "%matplotlib inline"
   ]
  },
  {
   "cell_type": "code",
   "execution_count": null,
   "metadata": {},
   "outputs": [],
   "source": [
    "mpl.rc('figure', figsize=(12, 9))\n",
    "\n",
    "mpl.rcParams.update({'text.usetex': False,\n",
    "                     'mathtext.fontset': 'cm',\n",
    "                     'lines.linewidth': 3,\n",
    "                     'lines.markersize': 10,\n",
    "                     'font.size': 16,\n",
    "                     'axes.grid': True,\n",
    "                     'grid.alpha': 0.5,\n",
    "                     'legend.loc': 'best',\n",
    "                     'savefig.dpi': 80,\n",
    "                     'pdf.compression': 9})"
   ]
  },
  {
   "cell_type": "markdown",
   "metadata": {},
   "source": [
    "#### Adding the Optickle path\n",
    "\n",
    "The path to Optickle needs to be added to the MATLAB engine. If the path variable `OPTICKLE_PATH` is set, this can be done with\n",
    "```python\n",
    "pyt.addOpticklePath(eng)\n",
    "```\n",
    "If the variable is not set, this is done with\n",
    "```python\n",
    "pyt.addOpticklePath(eng, optickle_path)\n",
    "```\n",
    "where `optickle_path` is a string that specifies the path to Optickle."
   ]
  },
  {
   "cell_type": "code",
   "execution_count": null,
   "metadata": {},
   "outputs": [],
   "source": [
    "pyt.addOpticklePath(eng)"
   ]
  },
  {
   "cell_type": "markdown",
   "metadata": {},
   "source": [
    "<a name=\"model\"> </a>\n",
    "\n",
    "## Model Definition\n",
    "\n",
    "Optickle models can be built directly in Python using the same commands as are used to build models in MATLAB, with a few added conveniences. Optickle models defined in a MATLAB script can also be loaded directly into QLANCE.\n",
    "\n",
    "Models are started with\n",
    "```python\n",
    "opt = pyt.Optickle(eng, opt_name, *args, **kwargs)\n",
    "```\n",
    "where `eng` is the MATLAB engine initialized above and `opt_name` is a string giving the name of the model. *If multiple models are defined, they must have different names.*\n",
    "\n",
    "With Optickle you must specify which sidebands to compute when initializing the model. This is done by specifying a vector of RF frequencies relative to the carrier and passing it as an argument when defining the model. So\n",
    "```python\n",
    "vRF = np.array([-11e6, 0, 11e6])\n",
    "opt = pyt.Optickle(eng, 'opt', vRF=vRF)\n",
    "```\n",
    "makes a model called `'opt'` that will track the carrier and the +11 MHz and -11 MHz sidebands. If `vRF` is not specified, only the carrier is tracked.\n",
    "\n",
    "One convenience in QLANCE not present when building models in MATLAB is that components can be added with non-default parameters just by specifying a keyword rather than listing all the parameters. Most functions have doc strings, so the usage and default parameters can be found easily using, for example, `help(opt.addMirror)`."
   ]
  },
  {
   "cell_type": "code",
   "execution_count": null,
   "metadata": {},
   "outputs": [],
   "source": [
    "# define some parameters\n",
    "fmod = 11e6  # modulation frequency for PDH sensing [Hz]\n",
    "gmod = 0.1   # modulation depth\n",
    "Pin = 1      # input power [W]\n",
    "Ti = 0.014   # input coupler transmissivity\n",
    "Lcav = 40e3  # cavity length [m]\n",
    "mass = 470   # mirror mass [kg]\n",
    "\n",
    "# track the carrier and first order sidebands\n",
    "vRF = np.array([-fmod, 0, fmod])\n",
    "\n",
    "# start a model named 'opt'\n",
    "opt = pyt.Optickle(eng, 'opt', vRF)\n",
    "\n",
    "# make the cavity\n",
    "opt.addMirror('EX')          # add a perfectly reflecting mirror\n",
    "opt.addMirror('IX', Thr=Ti)  # add a mirror with transmissivity Ti\n",
    "opt.addLink('IX', 'fr', 'EX', 'fr', Lcav)\n",
    "opt.addLink('EX', 'fr', 'IX', 'fr', Lcav)\n",
    "\n",
    "# set mechanical response\n",
    "for optic in ['EX', 'IX']:\n",
    "    opt.setMechTF('EX', [], [0, 0], 1/mass)\n",
    "\n",
    "# add input\n",
    "opt.addSource('Laser', np.sqrt(Pin)*(vRF == 0))\n",
    "opt.addModulator('AM', 1)   # amplitude modulator\n",
    "opt.addModulator('PM', 1j)  # phase modulator\n",
    "opt.addRFmodulator('Mod', fmod, 1j*gmod)  # RF modulator for PDH sensing\n",
    "opt.addLink('Laser', 'out', 'AM', 'in', 0)\n",
    "opt.addLink('AM', 'out', 'PM', 'in', 0)\n",
    "opt.addLink('PM', 'out', 'Mod', 'in', 0)\n",
    "opt.addLink('Mod', 'out', 'IX', 'bk', 0)\n",
    "\n",
    "# add DC and RF photodiodes\n",
    "opt.addSink('REFL')\n",
    "opt.addLink('IX', 'bk', 'REFL', 'in', 0)\n",
    "opt.addReadout('REFL', fmod, 5)"
   ]
  },
  {
   "cell_type": "markdown",
   "metadata": {},
   "source": [
    "Note that it is the amplitude rather than the power that is given when adding a laser with `addSource` and that you must specify the amplitude of all field components. Since `vRF == 0` is an array that is 0 everywhere except where `vRF` is zero,\n",
    "```python\n",
    "opt.addSource('Laser', np.sqrt(Pin)*(vRF == 0))\n",
    "```\n",
    "adds a laser, called `'Laser'`, with power `Pin` in the carrier and with no power in the sidebands.\n",
    "\n",
    "<p>&nbsp;</p>\n",
    "\n",
    "The command\n",
    "```python\n",
    "opt.setMechTF(optic, zs, ps, k)\n",
    "```\n",
    "sets the mechanical response of a mirror to a mechanical plant specified by zeros, poles, and a gain and is described in more detail in the torsional spring example. In this example we treat the mirrors as free masses (which have transfer functions $1/ms^2$). It is not necessary to set the mechanical response for optics if radiation pressure effects are not needed. We set it here so that we can compute the response to laser amplitude modulation.\n",
    "\n",
    "<p>&nbsp;</p>\n",
    "\n",
    "`addReadout` is a convenience function that adds RF and DC probes to a detection port. So the last command above\n",
    "```python\n",
    "opt.addReadout('REFL', fmod, 5)\n",
    "```\n",
    "added three probes to the `REFL` sink:\n",
    " 1. A DC photodiode named `REFL_DC`\n",
    " 2. An RF photodiode named `REFL_I` demodulated at frequency `fmod` with phase 5.\n",
    " 3. An RF photodiode named `REFL_Q` demodulated at frequency `fmod` with phase 5 + 90 = 95."
   ]
  },
  {
   "cell_type": "markdown",
   "metadata": {},
   "source": [
    "<a name=\"frequency-response\"> </a>\n",
    "\n",
    "## Frequency Response\n",
    "\n",
    "Transfer functions are calculated by specifying a frequency vector `ff` at which to calculate the response\n",
    "```python\n",
    "opt.run(ff)\n",
    "```\n",
    "By default this calculates\n",
    "1. The AC transfer functions from drives to probes, i.e. the optomechanical plant.\n",
    "2. The radiation pressure modifications to the mechanical response of the drives, i.e. the \"radiation pressure loop suppression function\". This is explained in the torsional spring example and in detail in the control system example, but we do not need it here.\n",
    "3. The quantum noise from each photodiode. In more complicated models this can take longer to compute and can be ignored with the `noise=False` keyword to speed up the calculations. We do not need quantum noise here."
   ]
  },
  {
   "cell_type": "code",
   "execution_count": null,
   "metadata": {},
   "outputs": [],
   "source": [
    "# compute the AC response matrix, i.e. the optical plant\n",
    "fmin = 1e-1\n",
    "fmax = 10e3\n",
    "npts = 1000\n",
    "ff = np.logspace(np.log10(fmin), np.log10(fmax), npts)\n",
    "opt.run(ff, noise=False)  # ignore quantum noise"
   ]
  },
  {
   "cell_type": "markdown",
   "metadata": {},
   "source": [
    "After running the model, transfer functions from any drives `drives` to any probes `probes` can be calculated with\n",
    "```python\n",
    "opt.getTF(probes, drives)\n",
    "```\n",
    "The variables `probes` and `drives` can be strings specifying the probes and drives or they can be dictionaries specifying linear combinations of probes and drives. For example,\n",
    "```python\n",
    "opt.getTF('AS_Q', 'EX')\n",
    "```\n",
    "computes the respone at the probe `AS_Q` to motion of the mirror `EX`, while\n",
    "```python\n",
    "opt.getTF('AS_Q', {'EX': 1/2, 'EY': -1/2})\n",
    "```\n",
    "computes the response at the probe `AS_Q` to the differentional motion of the mirrors `EX` and `EY` moving 180 degrees out of phase.\n",
    "\n",
    "<p>&nbsp;</p>\n",
    "\n",
    "The convenience function `plotTF` directly plots transfer functions. The optional third and fourth arguments are existing magnitude and phase axes so that multiple functions can be plotted on the same plot. Note that using the python `*args` shortcut the following two are equivalent\n",
    "```python\n",
    "plotTF(probes, drives, fig.axes[0], fig.axes[1])\n",
    "plotTF(probes, drives, *fig.axes)\n",
    "```"
   ]
  },
  {
   "cell_type": "code",
   "execution_count": null,
   "metadata": {},
   "outputs": [],
   "source": [
    "fig = opt.plotTF('REFL_I', 'EX', label='REFL_I')\n",
    "opt.plotTF('REFL_Q', 'EX', fig.axes[0], fig.axes[1], ls='-.', label='REFL_Q');\n",
    "fig.axes[0].legend()\n",
    "fig.axes[0].set_title('Response to EX Motion')\n",
    "fig.set_size_inches((8, 11));"
   ]
  },
  {
   "cell_type": "markdown",
   "metadata": {},
   "source": [
    "### Other types of frequency response: laser frequency, phase, intensity, and amplitude modulation\n",
    "\n",
    "In addition to the position transfer functions above, QLANCE also calculates angular transfer functions (pitch and yaw) as well as laser frequency, phase, intensity, and amplitude modulation. The torsional spring example gives an example of pitch response.\n",
    "\n",
    "Transfer functions are computed as before with an additional `doftype` argument:\n",
    "```python\n",
    "opt.getTF('REFL_I', 'PM', doftype='drive')   # laser phase modulation\n",
    "opt.getTF('REFL_I', 'AM', doftype='drive')   # laser amplitude modulation\n",
    "opt.getTF('REFL_I', 'Mod', doftype='phase')  # oscillator phase noise\n",
    "opt.getTF('REFL_I', 'Mod', doftype='amp')    # oscillator amplitude noise\n",
    "```\n",
    "help(opt.getTF) lists all of the supported transfer functions.\n",
    "\n",
    "<p>&nbsp;</p>\n",
    "\n",
    "Optickle calculates laser phase and amplitude modulation. (Note that Finesse computes laser frequency and intensity modulation.) Since frequency is the time derivative of phase, phase modulation is converted to frequency modulation by dividing by $\\mathrm{i}f$. Since intensity is the square of amplitude, amplitude modulation is converted to intensity modulation by dividing by 2."
   ]
  },
  {
   "cell_type": "code",
   "execution_count": null,
   "metadata": {},
   "outputs": [],
   "source": [
    "tf_phase = opt.getTF('REFL_I', 'PM', doftype='drive')  # phase response at REFL_I\n",
    "tf_amp = opt.getTF('REFL_I', 'AM', doftype='drive')    # amplitude response at REFL_I"
   ]
  },
  {
   "cell_type": "code",
   "execution_count": null,
   "metadata": {},
   "outputs": [],
   "source": [
    "fig = plotTF(ff, tf_phase/(1j*ff), label='Frequency [W/Hz]');\n",
    "plotTF(ff, tf_phase, *fig.axes, label='Phase [W/rad]');\n",
    "fig.axes[0].legend()\n",
    "fig.axes[0].set_ylim(1e-5, 1e0);\n",
    "fig.set_size_inches((8, 11));"
   ]
  },
  {
   "cell_type": "code",
   "execution_count": null,
   "metadata": {},
   "outputs": [],
   "source": [
    "fig = opt.plotTF('REFL_I', 'AM', doftype='drive');\n",
    "fig.axes[0].set_title('Laser Amplitude Response');\n",
    "fig.set_size_inches((8, 11));"
   ]
  },
  {
   "cell_type": "markdown",
   "metadata": {},
   "source": [
    "### Using DegreeOfFreedom\n",
    "\n",
    "Transfer functions can also be computed with `DegreeOfFreedom` instances which are used in control systems. These classes store the drives and doftype of a degree of freedom and can optionally store the probes used to detect them as well.\n",
    "\n",
    "For example all of the following compute the same transfer function\n",
    "```python\n",
    "PM = DegreeOfFreedom('AM', doftype='drive', probes='REFL_I')\n",
    "opt.getTF('REFL_I', 'AM', doftype='drive')\n",
    "opt.getTF('REFL_I', AM)\n",
    "opt.getTF(AM)\n",
    "```"
   ]
  },
  {
   "cell_type": "code",
   "execution_count": null,
   "metadata": {},
   "outputs": [],
   "source": [
    "AM1 = DegreeOfFreedom('AM', doftype='drive')  # probes are optional if specified when calculating the TF\n",
    "AM2 = DegreeOfFreedom('AM', probes='REFL_I', doftype='drive')\n",
    "fig = opt.plotTF('REFL_I', 'AM', doftype='drive');\n",
    "opt.plotTF('REFL_I', AM1, *fig.axes, ls='-.')\n",
    "opt.plotTF(AM2, *fig.axes, ls=':')\n",
    "fig.axes[0].set_title('Laser Amplitude Response');\n",
    "fig.set_size_inches((8, 11));"
   ]
  },
  {
   "cell_type": "markdown",
   "metadata": {},
   "source": [
    "#### Saving and loading optomechanical plants and radiation pressure modifications for future use\n",
    "\n",
    "Note also that the results of a simulation can be exported to an hdf5 file and loaded for future analysis. This is useful in complex models that take a long time to run since they only need to be calculated once and can then be analyzed in the future without having to do the calculations again. Since no simulations are needed for previously run data, Optickle and MATLAB do not need to be installed to analyze previously run data. The exported hdf5 file can then be compared with a Finesse simulation by a user who does not have Optickle or MATLAB. Similarly, simulations run with Finesse can be exported and comparred with an Optickle simulation by a user who does not have Finesse.\n",
    "\n",
    "For example, to save a model to the file `'pdh_freq_resp.hdf5'`\n",
    "```python\n",
    "opt.save('pdh_freq_resp.hdf5')\n",
    "```\n",
    "and to load it back in a future script\n",
    "```python\n",
    "import qlance.plant as plant\n",
    "opt = plant.OpticklePlant()\n",
    "opt.load('pdh_freq_resp.hdf5')\n",
    "```\n",
    "All analysis functions can be done on this new `opt` object created from a previously computed optomechanical plant, but the underlying Finesse Optickle model does not exist anymore so no further Optickle simulations can be run with it.\n",
    "\n",
    "To use a model calculated by Finesse\n",
    "```python\n",
    "katFR = plant.FinessePlant()\n",
    "katFR.load('pdh_freq_resp_finesse.hdf5')\n",
    "```\n",
    "The analysis functions on this `katFR` object are almost identical to those of the `opt` object and can be analyzed without Finesse installed."
   ]
  },
  {
   "cell_type": "markdown",
   "metadata": {},
   "source": [
    "<a name=\"sweep\"> </a>\n",
    "\n",
    "## Sweeping Drives\n",
    "\n",
    "To compute the response of a model to sweeping drives\n",
    "```python\n",
    "opt.sweepLinear(spos, epos, npts)\n",
    "```\n",
    "where `spos` and `epos` are dictionaries of the starting and ending positions of the drives to sweep and `npts` is the number of points to compute. For example\n",
    "```python\n",
    "xf = {'EX': 5e-9}\n",
    "xi = {'EX': -5e-9}\n",
    "opt.sweepLinear(xi, xf, 100)\n",
    "```\n",
    "sweeps the drive `EX` from -5 nm to +5 nm and\n",
    "```python\n",
    "xf = dict(EX=5e-9, EY=-5e-9)\n",
    "xi = {k: -v for k, v in xf.items()}  # in this case equivalent to dict(EX=-5e-9, EY=5e-9)\n",
    "opt.sweepLinear(xi, xf, 100)\n",
    "```\n",
    "sweeps `EX` from -5 nm to +5 nm while sweeping `EY` from +5 nm to -5 nm."
   ]
  },
  {
   "cell_type": "code",
   "execution_count": null,
   "metadata": {},
   "outputs": [],
   "source": [
    "# sweep from -5 nm to 5 nm\n",
    "xf = {'EX': 5e-9}   # final position\n",
    "xi = {'EX': -5e-9}  # initial position [m]\n",
    "opt.sweepLinear(xi, xf, 1000)"
   ]
  },
  {
   "cell_type": "markdown",
   "metadata": {},
   "source": [
    "After running the model, the sweep signals are computed with\n",
    "```python\n",
    "poses, sig = opt.getTF(probe, drive)\n",
    "```\n",
    "This returns the signal `sig` as measured by `probe` as a function of the drive `drive` positions `poses`."
   ]
  },
  {
   "cell_type": "code",
   "execution_count": null,
   "metadata": {},
   "outputs": [],
   "source": [
    "# get the error signals in REFL_I and REFL_Q\n",
    "poses, sweepI = opt.getSweepSignal('REFL_I', 'EX')\n",
    "_, sweepQ = opt.getSweepSignal('REFL_Q', 'EX')"
   ]
  },
  {
   "cell_type": "code",
   "execution_count": null,
   "metadata": {},
   "outputs": [],
   "source": [
    "# compute the slope of the error signals\n",
    "nn = int(len(poses)/2)  # index of the center x0 of the sweep\n",
    "nh = nn + 2             # index of x0 + dx\n",
    "nl = nn - 2             # index of x0 - dx\n",
    "dx = poses[nh] - poses[nl]\n",
    "dI = (sweepI[nh] - sweepI[nl]) / dx\n",
    "dQ = (sweepQ[nh] - sweepQ[nl]) / dx"
   ]
  },
  {
   "cell_type": "markdown",
   "metadata": {},
   "source": [
    "`plotSweepSignal` is another convenience function, like `plotTF`, which plots sweeps directly. The optional fourth argument is an existing figure so that multiple signals can be plotted on the same plot."
   ]
  },
  {
   "cell_type": "code",
   "execution_count": null,
   "metadata": {},
   "outputs": [],
   "source": [
    "fig = opt.plotSweepSignal('REFL_I', 'EX', label='REFL_I')\n",
    "opt.plotSweepSignal('REFL_Q', 'EX', fig, label='REFL_Q')\n",
    "ax = fig.gca()\n",
    "\n",
    "# plot the error signal slopes\n",
    "ymin, ymax = ax.get_ylim()\n",
    "ax.plot(poses, poses*dI, 'C3:', label='dI/dx');\n",
    "ax.plot(poses, poses*dQ, 'C2:', label='dQ/dx');\n",
    "ax.set_ylim(ymin, ymax)\n",
    "\n",
    "ax.legend()\n",
    "ax.set_xlabel('EX position [m]')\n",
    "ax.set_ylabel('Power [W]');"
   ]
  },
  {
   "cell_type": "code",
   "execution_count": null,
   "metadata": {},
   "outputs": [],
   "source": []
  }
 ],
 "metadata": {
  "kernelspec": {
   "display_name": "sim",
   "language": "python",
   "name": "sim"
  },
  "language_info": {
   "codemirror_mode": {
    "name": "ipython",
    "version": 3
   },
   "file_extension": ".py",
   "mimetype": "text/x-python",
   "name": "python",
   "nbconvert_exporter": "python",
   "pygments_lexer": "ipython3",
   "version": "3.7.3"
  }
 },
 "nbformat": 4,
 "nbformat_minor": 2
}
