{
 "cells": [
  {
   "cell_type": "markdown",
   "metadata": {},
   "source": [
    "# Modeling of a Torsional Spring in Finesse\n",
    "\n",
    "This notebooks adds the pendulum dynamics of the mirrors to a simple Fabry Perot cavity, computes the optical response to angular motion, and computes the effects of radiation pressure on the mirror dynamics.\n",
    "\n",
    "[__1.__](#model) Model definition\n",
    "\n",
    "[__2.__](#frequency-response) Compute frequency response\n",
    "\n",
    "[__3.__](#optical-response) Optical response\n",
    "\n",
    "[__4.__](#mechanical-response) Radiation pressure modification of the mechanical response\n",
    "\n",
    "The OptickleTorsionalSpring notebook goes through the identical calculations with Optickle."
   ]
  },
  {
   "cell_type": "code",
   "execution_count": null,
   "metadata": {},
   "outputs": [],
   "source": [
    "import numpy as np\n",
    "import qlance.finesse as fin\n",
    "import qlance.controls as ctrl\n",
    "import qlance.filters as filt\n",
    "import pykat\n",
    "from qlance.plotting import plotTF\n",
    "import matplotlib as mpl\n",
    "import matplotlib.pyplot as plt\n",
    "%matplotlib inline"
   ]
  },
  {
   "cell_type": "code",
   "execution_count": null,
   "metadata": {},
   "outputs": [],
   "source": [
    "mpl.rc('figure', figsize=(8, 11))\n",
    "\n",
    "mpl.rcParams.update({'text.usetex': False,\n",
    "                     'mathtext.fontset': 'cm',\n",
    "                     'lines.linewidth': 3,\n",
    "                     'lines.markersize': 10,\n",
    "                     'font.size': 16,\n",
    "                     'axes.grid': True,\n",
    "                     'grid.alpha': 0.5,\n",
    "                     'legend.loc': 'best',\n",
    "                     'savefig.dpi': 80,\n",
    "                     'pdf.compression': 9})"
   ]
  },
  {
   "cell_type": "markdown",
   "metadata": {},
   "source": [
    "<a name=\"model\"> </a>\n",
    "\n",
    "## Model Definition\n",
    "\n",
    "See BasicFinesseFP for an introduction to Finesse model building.\n",
    "\n",
    "Note that when adding mirrors to a Finesse model with QLANCE's model building functions, the radius of curvature is always the physical radius of curvature of the mirror. Optical cavities built with classic Finesse code often have the sign of the radius of curvature of the input coupler opposite to its physical sign depending on the order components were added to the model. There is never an ambiguity when using QLANCE's functions."
   ]
  },
  {
   "cell_type": "code",
   "execution_count": null,
   "metadata": {},
   "outputs": [],
   "source": [
    "fmod = 11e3  # modulation frequency [Hz]\n",
    "gmod = 0.1   # modulation depth\n",
    "Pin = 10e3   # input power [W]\n",
    "Ti = 0.014   # ITM transmissivity\n",
    "Lcav = 40e3  # cavity length [m]\n",
    "Ri = 34e3    # ITM radius of curvature [m]\n",
    "Re = 36e3    # ETM radius of curvature [m]\n",
    "\n",
    "# Mechanical response of the torsional pendulum\n",
    "I = 25   # moment of inertia of the mirror [kg m^2]\n",
    "f0 = 1   # resonance frequency [Hz]\n",
    "Q = 100  # Q factor\n",
    "poles = np.array(filt.resRoots(2*np.pi*f0, Q, Hz=False))\n",
    "\n",
    "kat = pykat.finesse.kat()\n",
    "\n",
    "# make the cavity\n",
    "fin.addMirror(kat, 'EX', Chr=1/Re)\n",
    "fin.addMirror(kat, 'IX', Thr=Ti, Chr=1/Ri)\n",
    "fin.addSpace(kat, 'IX_fr', 'EX_fr', Lcav)\n",
    "fin.setCavityBasis(kat, 'IX_fr', 'EX_fr')\n",
    "\n",
    "# set the pitch response by giving a zpk definition of the dynamics\n",
    "fin.setMechTF(kat, 'EX', [], poles, 1/I, doftype='pitch')\n",
    "fin.setMechTF(kat, 'IX', [], poles, 1/I, doftype='pitch')\n",
    "\n",
    "# add input\n",
    "fin.addLaser(kat, 'Laser', Pin)\n",
    "fin.addModulator(kat, 'Mod', fmod, gmod, 1, 'pm')  # RF modulator for PDH sensing\n",
    "fin.addSpace(kat, 'Laser_out', 'Mod_in', 0)\n",
    "fin.addSpace(kat, 'Mod_out', 'IX_bk', 0)\n",
    "\n",
    "# add DC and RF photodiodes\n",
    "fin.addReadout(kat, 'REFL', 'IX_bk', fmod, 0, doftype='pitch')\n",
    "\n",
    "fin.monitorMotion(kat, 'EX', doftype='pitch')\n",
    "fin.monitorMotion(kat, 'IX', doftype='pitch')\n",
    "\n",
    "kat.phase = 2   # always use phase 2 when doing anything with HOMs!\n",
    "kat.maxtem = 1  # use up to 1st order HOMs"
   ]
  },
  {
   "cell_type": "markdown",
   "metadata": {},
   "source": [
    "The free mechanical response of the pendulum must be defined to compute the effects of radiation pressure. The command \n",
    "```python\n",
    "fin.setMechTF(kat, name, zs, ps, k, doftype)\n",
    "```\n",
    "sets this response for the optic called `name` to a mechanical plant specified by zeros, poles, and a gain. The convenience function `resRoots(omega0, Q)` computes the conjugate poles (or zeros) of a resonance with a given frequency and Q factor.\n",
    "\n",
    "*Note for Finesse users: Unlike specifying a plant directly with classic Finesse code where only half of the complex zeros and poles should be given, QLANCE uses the zpk model as defined and will give an error if an unphysical plant is given.*\n",
    "\n",
    "When working with higher order modes, a Hermite-Gauss basis must be defined. The simplest way to do this is to have Finesse compute it by using the basis of a stable cavity. The command `setCavityBasis(kat, node1, node2)` tells Finesse to use the cavity formed by `node1` and `node2` to define the basis. Multiple cavities can be used to define the basis in more complicated models.\n",
    "\n",
    "You should also always set `kat.phase = 2` otherwise the simulation may give unphysical results."
   ]
  },
  {
   "cell_type": "markdown",
   "metadata": {},
   "source": [
    "<a name=\"frequency-response\"> </a>\n",
    "\n",
    "## Frequency Response\n",
    "\n",
    "See BasicFinesseFP for an overview of frequency response calculations. Since we are interested in the pitch dynamics here we have to run the model with the `doftype` (degree of freedom) keyword:\n",
    "```python\n",
    "katFR.run(fmin, fmax, npts, doftype='pitch')\n",
    "```"
   ]
  },
  {
   "cell_type": "code",
   "execution_count": null,
   "metadata": {},
   "outputs": [],
   "source": [
    "# make a frequency response object from the finesse model\n",
    "katFR = fin.KatFR(kat)"
   ]
  },
  {
   "cell_type": "code",
   "execution_count": null,
   "metadata": {},
   "outputs": [],
   "source": [
    "# compute the AC response matrix, i.e. the optomechanical plant\n",
    "fmin = 1e-1\n",
    "fmax = 30\n",
    "npts = 1000\n",
    "katFR.run(fmin, fmax, npts, doftype='pitch')"
   ]
  },
  {
   "cell_type": "markdown",
   "metadata": {},
   "source": [
    "Transfer functions which are linear combinations of drives can also be computed directly by specifying those combinations as a dictionary. In this case we'll look at the hard $\\theta_\\mathrm{h}$ and soft $\\theta_\\mathrm{s}$ modes defined as\n",
    "$$\\begin{bmatrix}\n",
    "\\theta_\\mathrm{s}\\\\\n",
    "\\theta_\\mathrm{h}\n",
    "\\end{bmatrix}\n",
    "=\n",
    "\\begin{bmatrix}\n",
    "r & 1 \\\\\n",
    "-1 & r\n",
    "\\end{bmatrix}\n",
    "\\begin{bmatrix}\n",
    "\\theta_\\mathrm{i}\\\\\n",
    "\\theta_\\mathrm{e}\n",
    "\\end{bmatrix}, \\qquad\n",
    "r = \\frac{2}{(g_\\mathrm{i} - g_\\mathrm{e}) + \\sqrt{(g_\\mathrm{i} - g_\\mathrm{e})^2 + 4}}, \\qquad\n",
    "g_{\\mathrm{e}(\\mathrm{i})} = 1 - \\frac{L}{R_{\\mathrm{e}(\\mathrm{i})}}\n",
    "$$"
   ]
  },
  {
   "cell_type": "code",
   "execution_count": null,
   "metadata": {},
   "outputs": [],
   "source": [
    "gi = 1 - Lcav/Ri\n",
    "ge = 1 - Lcav/Re\n",
    "r = 2/((gi - ge) + np.sqrt((gi - ge)**2 + 4))\n",
    "\n",
    "HARD = dict(IX=-1, EX=r)\n",
    "SOFT = dict(IX=r, EX=1)"
   ]
  },
  {
   "cell_type": "markdown",
   "metadata": {},
   "source": [
    "As described in BasicFinesseFP `DegreeOfFreedom` instances can also be used"
   ]
  },
  {
   "cell_type": "code",
   "execution_count": null,
   "metadata": {},
   "outputs": [],
   "source": [
    "EX = ctrl.DegreeOfFreedom('EX', doftype='pitch')"
   ]
  },
  {
   "cell_type": "markdown",
   "metadata": {},
   "source": [
    "<a name=\"optical-response\"> </a>\n",
    "\n",
    "### Optical response\n",
    "\n",
    "See BasicFinesseFP for an overview of calculating transfer functions."
   ]
  },
  {
   "cell_type": "code",
   "execution_count": null,
   "metadata": {},
   "outputs": [],
   "source": [
    "# transfer functions can be computed directly\n",
    "tf_REFL_I_SOFT = katFR.getTF('REFL_I', SOFT, doftype='pitch')"
   ]
  },
  {
   "cell_type": "code",
   "execution_count": null,
   "metadata": {},
   "outputs": [],
   "source": [
    "# plotTF is a convenience function to quickly plot a transfer function\n",
    "fig = katFR.plotTF('REFL_I', HARD, doftype='pitch', label='Hard');\n",
    "plotTF(katFR.ff, tf_REFL_I_SOFT, *fig.axes, label='Soft');\n",
    "katFR.plotTF('REFL_I', EX, *fig.axes, label='EX')  # doftype already specified in DegreeOfFreedom\n",
    "fig.axes[0].legend();\n",
    "fig.axes[0].set_title('Optical Response');\n",
    "fig.axes[0].set_ylabel('Magnitude [W/rad]');"
   ]
  },
  {
   "cell_type": "markdown",
   "metadata": {},
   "source": [
    "<a name=\"mechanical-response\"> </a>\n",
    "\n",
    "\n",
    "### Radiation pressure modification of the mechanical response\n",
    "\n",
    "The radiation pressure stiffens the hard mode increasing the resonance frequency from that of the free pendulum and softens the soft mode decreasing the resonance frequency.\n",
    "\n",
    "```python\n",
    "katFR.getMechTF(drive_to, drive_from, dof)\n",
    "```\n",
    "calculates the mechanical response of `drive_to` due to forces or torques on `drive_from`. As with `getTF`, the drives can be either strings for a single drive or a dictionaries specifying linear combinations of drives."
   ]
  },
  {
   "cell_type": "code",
   "execution_count": null,
   "metadata": {},
   "outputs": [],
   "source": [
    "# For comparisson, define a filter showing the free pendulum response\n",
    "# More on filters in the control systems example. This is just for plotting here\n",
    "pend = filt.ZPKFilter([], poles, 1/I, Hz=False)"
   ]
  },
  {
   "cell_type": "code",
   "execution_count": null,
   "metadata": {},
   "outputs": [],
   "source": [
    "# Again, mechanical transfer functions can be computed directly\n",
    "tf_mech_SOFT = katFR.getMechTF(SOFT, SOFT, doftype='pitch')"
   ]
  },
  {
   "cell_type": "code",
   "execution_count": null,
   "metadata": {
    "scrolled": false
   },
   "outputs": [],
   "source": [
    "# and plotMechTF is a convenience function\n",
    "fig = katFR.plotMechTF(HARD, HARD, doftype='pitch', label='Hard')\n",
    "plotTF(katFR.ff, tf_mech_SOFT, fig.axes[0], fig.axes[1], label='Soft')\n",
    "katFR.plotMechTF(EX, EX, *fig.axes, label='EX')  # doftype already specified in DegreeOfFreedom\n",
    "pend.plotFilter(katFR.ff, *fig.axes, label='Free pendulum')\n",
    "fig.axes[0].legend();\n",
    "fig.axes[0].set_title('Mechanical Response');\n",
    "fig.axes[0].set_ylabel('Magnitude [rad/(N m)]');"
   ]
  },
  {
   "cell_type": "code",
   "execution_count": null,
   "metadata": {},
   "outputs": [],
   "source": []
  }
 ],
 "metadata": {
  "kernelspec": {
   "display_name": "finesse",
   "language": "python",
   "name": "finesse"
  },
  "language_info": {
   "codemirror_mode": {
    "name": "ipython",
    "version": 3
   },
   "file_extension": ".py",
   "mimetype": "text/x-python",
   "name": "python",
   "nbconvert_exporter": "python",
   "pygments_lexer": "ipython3",
   "version": "3.7.3"
  }
 },
 "nbformat": 4,
 "nbformat_minor": 2
}
