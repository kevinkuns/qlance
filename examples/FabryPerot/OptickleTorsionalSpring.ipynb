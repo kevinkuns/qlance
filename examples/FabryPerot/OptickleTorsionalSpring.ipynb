{
 "cells": [
  {
   "cell_type": "markdown",
   "metadata": {},
   "source": [
    "# Modeling of a Torsional Spring in Optickle\n",
    "\n",
    "This notebooks adds the pendulum dynamics of the mirrors to a simple Fabry Perot cavity, computes the optical response to angular motion, and computes the effects of radiation pressure on the mirror dynamics.\n",
    "\n",
    "[__1.__](#model) Model definition\n",
    "\n",
    "[__2.__](#frequency-response) Compute frequency response\n",
    "\n",
    "[__3.__](#optical-response) Optical response\n",
    "\n",
    "[__4.__](#mechanical-response) Radiation pressure modification of the mechanical response\n",
    "\n",
    "The FinesseTorsionalSpring notebook goes through the identical calculations with Finesse."
   ]
  },
  {
   "cell_type": "code",
   "execution_count": null,
   "metadata": {},
   "outputs": [],
   "source": [
    "# The matlab engine must first be started.\n",
    "# This takes a few seconds but only needs to be done once\n",
    "import matlab.engine\n",
    "eng = matlab.engine.start_matlab()"
   ]
  },
  {
   "cell_type": "code",
   "execution_count": null,
   "metadata": {},
   "outputs": [],
   "source": [
    "import numpy as np\n",
    "import qlance.optickle as pyt\n",
    "import qlance.controls as ctrl\n",
    "import qlance.filters as filt\n",
    "from qlance.plotting import plotTF\n",
    "import matplotlib as mpl\n",
    "import matplotlib.pyplot as plt\n",
    "%matplotlib inline"
   ]
  },
  {
   "cell_type": "code",
   "execution_count": null,
   "metadata": {},
   "outputs": [],
   "source": [
    "mpl.rc('figure', figsize=(8, 11))\n",
    "\n",
    "mpl.rcParams.update({'text.usetex': False,\n",
    "                     'mathtext.fontset': 'cm',\n",
    "                     'lines.linewidth': 3,\n",
    "                     'lines.markersize': 10,\n",
    "                     'font.size': 16,\n",
    "                     'axes.grid': True,\n",
    "                     'grid.alpha': 0.5,\n",
    "                     'legend.loc': 'best',\n",
    "                     'savefig.dpi': 80,\n",
    "                     'pdf.compression': 9})"
   ]
  },
  {
   "cell_type": "code",
   "execution_count": null,
   "metadata": {},
   "outputs": [],
   "source": [
    "# This adds the path to Optickle to Matlab's path and assumes the OPTICKLE_PATH variable has been defined.\n",
    "# If it has not, use\n",
    "# pyt.addOpticklePath(eng, path_to_optickle)\n",
    "# instead.\n",
    "pyt.addOpticklePath(eng)"
   ]
  },
  {
   "cell_type": "markdown",
   "metadata": {},
   "source": [
    "<a name=\"model\"> </a>\n",
    "\n",
    "## Model Definition\n",
    "\n",
    "See BasicOptickleFP for an introduction to Optickle model building."
   ]
  },
  {
   "cell_type": "code",
   "execution_count": null,
   "metadata": {},
   "outputs": [],
   "source": [
    "fmod = 11e3  # modulation frequency [Hz]\n",
    "gmod = 0.1   # modulation depth\n",
    "Pin = 10e3   # input power [W]\n",
    "Ti = 0.014   # ITM transmissivity\n",
    "Lcav = 40e3  # cavity length [m]\n",
    "Ri = 34e3    # ITM radius of curvature [m]\n",
    "Re = 36e3    # ETM radius of curvature [m]\n",
    "\n",
    "# Mechanical response of the torsional pendulum\n",
    "I = 25   # moment of inertia of the mirror [kg m^2]\n",
    "f0 = 1   # resonance frequency [Hz]\n",
    "Q = 100  # Q factor\n",
    "poles = np.array(filt.resRoots(2*np.pi*f0, Q, Hz=False))\n",
    "\n",
    "vRF = np.array([-fmod, 0, fmod])\n",
    "\n",
    "opt = pyt.Optickle(eng, 'opt', vRF)\n",
    "\n",
    "# make the cavity\n",
    "opt.addMirror('EX', Chr=1/Re)\n",
    "opt.addMirror('IX', Thr=Ti, Chr=1/Ri)\n",
    "opt.addLink('IX', 'fr', 'EX', 'fr', Lcav)\n",
    "opt.addLink('EX', 'fr', 'IX', 'fr', Lcav)\n",
    "opt.setCavityBasis('IX', 'EX')\n",
    "\n",
    "# set the pitch response by giving a zpk definition of the dynamics\n",
    "opt.setMechTF('EX', [], poles, 1/I, doftype='pitch')\n",
    "opt.setMechTF('IX', [], poles, 1/I, doftype='pitch')\n",
    "\n",
    "# add input\n",
    "opt.addSource('Laser', np.sqrt(Pin)*(vRF == 0))\n",
    "opt.addRFmodulator('Mod', fmod, 1j*gmod)  # RF modulator for PDH sensing\n",
    "opt.addLink('Laser', 'out', 'Mod', 'in', 0)\n",
    "opt.addLink('Mod', 'out', 'IX', 'bk', 0)\n",
    "\n",
    "# add DC and RF photodiodes\n",
    "opt.addSink('REFL')\n",
    "opt.addLink('IX', 'bk', 'REFL', 'in', 0)\n",
    "opt.addReadout('REFL', fmod, 0)"
   ]
  },
  {
   "cell_type": "markdown",
   "metadata": {},
   "source": [
    "The free mechanical response of the pendulum must be defined to compute the effects of radiation pressure. The command\n",
    "```python\n",
    "opt.setMechTF(name, zs, ps, z, doftype)\n",
    "```\n",
    "sets this response for the optic called `name` to a mechanical plant specified by zeros, poles, and a gain. The convenience function `resRoots(omega0, Q)` computes the conjugate poles (or zeros) of a resonance with a given frequency and Q factor.\n",
    "\n",
    "When working with higher order modes, a Hermite-Gauss basis must be defined. The simplest way to do this is to have Optickle compute it by using the basis of a stable cavity. The command `setCavityBasis(mirr1, mirr2)` tells Optickle to use the cavity formed by `mirr1` and `mirr2` to define the basis. Multiple cavities can be used to define the basis in more complicated models."
   ]
  },
  {
   "cell_type": "markdown",
   "metadata": {},
   "source": [
    "<a name=\"frequency-response\"> </a>\n",
    "\n",
    "## Frequency Response\n",
    "\n",
    "See BasicOptickleFP for an overview of frequency response calculations. Since we are interested in the pitch dynamics here we have to run the model with the `doftype` (degree of freedom) keyword:\n",
    "```python\n",
    "opt.run(ff, doftype='pitch')\n",
    "```"
   ]
  },
  {
   "cell_type": "code",
   "execution_count": null,
   "metadata": {},
   "outputs": [],
   "source": [
    "# compute the AC response matrix, i.e. the optomechanical plant\n",
    "fmin = 1e-1\n",
    "fmax = 30\n",
    "npts = 1000\n",
    "ff = np.logspace(np.log10(fmin), np.log10(fmax), npts)\n",
    "opt.run(ff, doftype='pitch', noise=False)"
   ]
  },
  {
   "cell_type": "markdown",
   "metadata": {},
   "source": [
    "Transfer functions which are linear combinations of drives can also be computed directly by specifying those combinations as a dictionary. In this case we'll look at the hard $\\theta_\\mathrm{h}$ and soft $\\theta_\\mathrm{s}$ modes defined as\n",
    "$$\\begin{bmatrix}\n",
    "\\theta_\\mathrm{s}\\\\\n",
    "\\theta_\\mathrm{h}\n",
    "\\end{bmatrix}\n",
    "=\n",
    "\\begin{bmatrix}\n",
    "r & 1 \\\\\n",
    "-1 & r\n",
    "\\end{bmatrix}\n",
    "\\begin{bmatrix}\n",
    "\\theta_\\mathrm{i}\\\\\n",
    "\\theta_\\mathrm{e}\n",
    "\\end{bmatrix}, \\qquad\n",
    "r = \\frac{2}{(g_\\mathrm{i} - g_\\mathrm{e}) + \\sqrt{(g_\\mathrm{i} - g_\\mathrm{e})^2 + 4}}, \\qquad\n",
    "g_{\\mathrm{e}(\\mathrm{i})} = 1 - \\frac{L}{R_{\\mathrm{e}(\\mathrm{i})}}\n",
    "$$"
   ]
  },
  {
   "cell_type": "code",
   "execution_count": null,
   "metadata": {},
   "outputs": [],
   "source": [
    "gi = 1 - Lcav/Ri\n",
    "ge = 1 - Lcav/Re\n",
    "r = 2/((gi - ge) + np.sqrt((gi - ge)**2 + 4))\n",
    "\n",
    "HARD = dict(IX=-1, EX=r)\n",
    "SOFT = dict(IX=r, EX=1)"
   ]
  },
  {
   "cell_type": "markdown",
   "metadata": {},
   "source": [
    "As described in BasicFinesseFP `DegreeOfFreedom` instances can also be used"
   ]
  },
  {
   "cell_type": "code",
   "execution_count": null,
   "metadata": {},
   "outputs": [],
   "source": [
    "EX = ctrl.DegreeOfFreedom('EX', doftype='pitch')"
   ]
  },
  {
   "cell_type": "markdown",
   "metadata": {},
   "source": [
    "<a name=\"optical-response\"> </a>\n",
    "\n",
    "### Optical response\n",
    "\n",
    "See BasicOptickleFP for an overview of calculating transfer functions."
   ]
  },
  {
   "cell_type": "code",
   "execution_count": null,
   "metadata": {},
   "outputs": [],
   "source": [
    "# transfer functions can be computed directly\n",
    "tf_REFL_I_SOFT = opt.getTF('REFL_I', SOFT, doftype='pitch')"
   ]
  },
  {
   "cell_type": "code",
   "execution_count": null,
   "metadata": {},
   "outputs": [],
   "source": [
    "# plotTF is a convenience function to quickly plot a transfer function\n",
    "fig = opt.plotTF('REFL_I', HARD, doftype='pitch', label='hard');\n",
    "plotTF(ff, tf_REFL_I_SOFT, *fig.axes, label='soft');\n",
    "opt.plotTF('REFL_I', EX, *fig.axes, label='EX')  # doftype already specified in DegreeOfFreedom\n",
    "fig.axes[0].legend();\n",
    "fig.axes[0].set_title('Optical Response');\n",
    "fig.axes[0].set_ylabel('Magnitude [W/rad]');"
   ]
  },
  {
   "cell_type": "markdown",
   "metadata": {},
   "source": [
    "<a name=\"mechanical-response\"> </a>\n",
    "\n",
    "\n",
    "### Radiation pressure modification of the mechanical response\n",
    "\n",
    "The radiation pressure stiffens the hard mode increasing the resonance frequency from that of the free pendulum and softens the soft mode decreasing the resonance frequency.\n",
    "\n",
    "```python\n",
    "opt.getMechTF(drive_to, drive_from, dof)\n",
    "```\n",
    "calculates the mechanical response of `drive_to` due to forces or torques on `drive_from`. As with `getTF`, the drives can be either strings for a single drive or a dictionaries specifying linear combinations of drives."
   ]
  },
  {
   "cell_type": "code",
   "execution_count": null,
   "metadata": {},
   "outputs": [],
   "source": [
    "# For comparisson, define a filter showing the free pendulum response\n",
    "# More on filters in the control systems example. This is just for plotting here\n",
    "pend = filt.ZPKFilter([], poles, 1/I, Hz=False)"
   ]
  },
  {
   "cell_type": "code",
   "execution_count": null,
   "metadata": {},
   "outputs": [],
   "source": [
    "# Again, mechanical transfer functions can be computed directly\n",
    "tf_mech_SOFT = opt.getMechTF(SOFT, SOFT, doftype='pitch')"
   ]
  },
  {
   "cell_type": "code",
   "execution_count": null,
   "metadata": {},
   "outputs": [],
   "source": [
    "# and plotMechTF is a convenience function\n",
    "fig = opt.plotMechTF(HARD, HARD, doftype='pitch', label='Hard')\n",
    "plotTF(ff, tf_mech_SOFT, fig.axes[0], fig.axes[1], label='Soft')\n",
    "opt.plotMechTF(EX, EX, *fig.axes, label='EX')  # doftype already specified in DegreeOfFreedom\n",
    "pend.plotFilter(ff, *fig.axes, label='Free pendulum')\n",
    "fig.axes[0].legend();\n",
    "fig.axes[0].set_title('Mechanical Response');\n",
    "fig.axes[0].set_ylabel('Magnitude [rad/(N m)]');"
   ]
  },
  {
   "cell_type": "code",
   "execution_count": null,
   "metadata": {},
   "outputs": [],
   "source": []
  }
 ],
 "metadata": {
  "kernelspec": {
   "display_name": "sim",
   "language": "python",
   "name": "sim"
  },
  "language_info": {
   "codemirror_mode": {
    "name": "ipython",
    "version": 3
   },
   "file_extension": ".py",
   "mimetype": "text/x-python",
   "name": "python",
   "nbconvert_exporter": "python",
   "pygments_lexer": "ipython3",
   "version": "3.7.3"
  }
 },
 "nbformat": 4,
 "nbformat_minor": 2
}
