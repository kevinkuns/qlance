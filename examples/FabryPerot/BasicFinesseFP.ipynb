{
 "cells": [
  {
   "cell_type": "markdown",
   "metadata": {},
   "source": [
    "# Basic Finesse Modeling of a Fabry Perot Cavity\n",
    "\n",
    "This notebook makes a simple Fabry Perot cavity in Finesse and computes the frequency response and response to sweeping drives. State space and zpk representations of the optomechanical plant are computed at the end.\n",
    "\n",
    "[__1.__](#model) Model definition\n",
    "\n",
    "[__2.__](#frequency-response) Compute the frequency response\n",
    "\n",
    "[__3.__](#sweep) Compute the response to sweeping drives\n",
    "\n",
    "[__4.__](#ss-zpk) Find state space and zpk representations of the optomechanical plant\n",
    "\n",
    "The BasicOptickleFP notebook goes through the identical calculations with Optickle."
   ]
  },
  {
   "cell_type": "code",
   "execution_count": null,
   "metadata": {},
   "outputs": [],
   "source": [
    "import numpy as np\n",
    "import qlance.finesse as fin\n",
    "import pykat\n",
    "from qlance.plotting import plotTF\n",
    "from qlance.controls import DegreeOfFreedom\n",
    "import matplotlib as mpl\n",
    "import matplotlib.pyplot as plt\n",
    "import scipy.constants as scc\n",
    "%matplotlib inline"
   ]
  },
  {
   "cell_type": "code",
   "execution_count": null,
   "metadata": {},
   "outputs": [],
   "source": [
    "mpl.rc('figure', figsize=(12, 9))\n",
    "\n",
    "mpl.rcParams.update({'text.usetex': False,\n",
    "                     'mathtext.fontset': 'cm',\n",
    "                     'lines.linewidth': 3,\n",
    "                     'lines.markersize': 10,\n",
    "                     'font.size': 16,\n",
    "                     'axes.grid': True,\n",
    "                     'grid.alpha': 0.5,\n",
    "                     'legend.loc': 'best',\n",
    "                     'savefig.dpi': 80,\n",
    "                     'pdf.compression': 9})"
   ]
  },
  {
   "cell_type": "markdown",
   "metadata": {},
   "source": [
    "<a name=\"model\"> </a>\n",
    "\n",
    "## Model Definition\n",
    "\n",
    "QLANCE has several functions that make building a Finesse model more convenient and similar to Optickle model building. These functions just make a regular QLANCE kat model. Any kat model made by any means outside of QLANCE, for example by using PyKat to parse classic Finesse code, can be used with its analysis functions.\n",
    "\n",
    "Most Finesse model building functions have analogs in QLANCE. Just as in Finesse, components are added with nodes and the nodes are connected with spaces. Using QLANCE's model building functions enforces standardized node naming conventions which the user does not have to think about. One consequence is that the behavior of the model will never depend on the order in which components are defined or in which spaces are added.\n",
    "\n",
    "For example, the `addMirror(kat, 'mirr')` function adds a mirror named `'mirr'` to the model `kat` with a set of default parameters and defines the nodes `mirr_fr` and `mirr_bk` for the front and back of the mirror, respectively. Most functions have doc strings, so the usage, default parameters, and node names can be found easily using, for example, `help(fin.addMirror)`."
   ]
  },
  {
   "cell_type": "code",
   "execution_count": null,
   "metadata": {},
   "outputs": [],
   "source": [
    "# define some parameters\n",
    "fmod = 11e6  # modulation frequency for PDH sensing [Hz]\n",
    "gmod = 0.1   # modulation depth\n",
    "Pin = 1      # input power [W]\n",
    "Ti = 0.014   # input coupler transmissivity\n",
    "Lcav = 40e3  # cavity length [m]\n",
    "mass = 470   # mirror mass [kg]\n",
    "\n",
    "# start a new model\n",
    "kat = pykat.finesse.kat()\n",
    "\n",
    "# make the cavity\n",
    "fin.addMirror(kat, 'EX')                   # add a perfectly reflecting mirror\n",
    "fin.addMirror(kat, 'IX', Thr=Ti)           # add a mirror with transmissivity Ti\n",
    "fin.addSpace(kat, 'IX_fr', 'EX_fr', Lcav)  # connect the front faces to form a cavity\n",
    "\n",
    "# set mechanical response\n",
    "for optic in ['EX', 'IX']:\n",
    "    fin.setMechTF(kat, optic, [], [0, 0], 1/mass)\n",
    "\n",
    "# add input\n",
    "fin.addLaser(kat, 'Laser', Pin)\n",
    "fin.addModulator(kat, 'Mod', fmod, gmod, 1, 'pm')  # RF modulator for PDH sensing\n",
    "fin.addSpace(kat, 'Laser_out', 'Mod_in', 0)\n",
    "fin.addSpace(kat, 'Mod_out', 'IX_bk', 0)\n",
    "\n",
    "# add DC and RF photodiodes\n",
    "fin.addReadout(kat, 'REFL', 'IX_bk', fmod, 5)"
   ]
  },
  {
   "cell_type": "markdown",
   "metadata": {},
   "source": [
    "Note that mirrors and beamsplitters in Finesse are fake single surface objects which QLANCE's `addMirror` and `addBeamsplitter` functions add by default. Real mirrors with both an HR and AR side can be added by setting the `comp=True` keyword in the function calls. The node names which the user should use are the same as when `comp=False`.\n",
    "\n",
    "<p>&nbsp;</p>\n",
    "\n",
    "The command\n",
    "```python\n",
    "fin.setMechTF(kat, optic, zs, ps, k)\n",
    "```\n",
    "sets the mechanical response of a mirror to a mechanical plant specified by zeros, poles, and a gain and is described in more detail in the torsional spring example. In this example we treat the mirrors as free masses (which have transfer functions $1/ms^2$). It is not necessary to set the mechanical response for optics if radiation pressure effects are not needed. We set it here so that we can compute the response to laser amplitude modulation.\n",
    "\n",
    "*Note for Finesse users: Unlike specifying a plant directly with classic Finesse code where only half of the complex zeros and poles should be given, QLANCE uses the zpk model as defined and will give an error if an unphysical plant is given.*\n",
    "\n",
    "<p>&nbsp;</p>\n",
    "\n",
    "`addReadout` is a convenience function that adds RF and DC probes to a detection port. So the last command above\n",
    "```python\n",
    "fin.addReadout(kat, 'REFL', 'IX_bk', fmod, 5)\n",
    "```\n",
    "added three probes to the back of the mirror `IX`:\n",
    " 1. A DC photodiode named `REFL_DC`\n",
    " 2. An RF photodiode named `REFL_I` demodulated at frequency `fmod` with phase 5.\n",
    " 3. An RF photodiode named `REFL_Q` demodulated at frequency `fmod` with phase 5 + 90 = 95."
   ]
  },
  {
   "cell_type": "markdown",
   "metadata": {},
   "source": [
    "<a name=\"frequency-response\"> </a>\n",
    "\n",
    "## Frequency Response\n",
    "\n",
    "To compute transfer functions from a kat model, create a `KatFR` object from that model.\n",
    "```python\n",
    "katFR = fin.KatFR(kat)\n",
    "```\n",
    "By default, the response of a Finesse model to all drives is computed. With complex models this can take some time. The computation time can be reduced if only a subset of the drives will be needed for further computations by\n",
    "```python\n",
    "katFR = fin.KatFR(kat, all_drives=False)\n",
    "katFR.addDrives(drive_list)  # add with a list\n",
    "katFR.addDrives('EX')        # or add additional drives one at a time\n",
    "```\n",
    "\n",
    "Calling\n",
    "```python\n",
    "katFR.run(fmin, fmax, npts)\n",
    "```\n",
    "does the actual calculation for the frequency vector from `fmin` to `fmax` with `npts` points. By default two things are computed, but this can be controlled with the `rtype` keyword:\n",
    "1. The AC transfer functions from drives to probes, i.e. the optomechanical plant. Using `rtype='opt'` will only compute this.\n",
    "2. The radiation pressure modifications to the mechanical response of the drives, i.e. the \"radiation pressure loop suppression function\". This is explained in the torsional spring example and in detail in the control system example, but we do not need it here. Using `rtype='mech'` will only compute this.\n",
    "3. By default `rtype='both'` and both of these are computed. Note that the radiation pressure effects are still calculated if `rtype='opt'` but the mechanical effects cannot be analyzed separately in this case.\n",
    "\n",
    "The frequency vector used is\n",
    "```python\n",
    "katFR.ff\n",
    "```"
   ]
  },
  {
   "cell_type": "code",
   "execution_count": null,
   "metadata": {},
   "outputs": [],
   "source": [
    "katFR = fin.KatFR(kat)  "
   ]
  },
  {
   "cell_type": "code",
   "execution_count": null,
   "metadata": {},
   "outputs": [],
   "source": [
    "# compute the AC response matrix, i.e. the optical plant\n",
    "fmin = 1e-1\n",
    "fmax = 10e3\n",
    "npts = 1000\n",
    "katFR.run(fmin, fmax, npts, rtype='opt')\n",
    "ff = katFR.ff"
   ]
  },
  {
   "cell_type": "markdown",
   "metadata": {},
   "source": [
    "After running the model, transfer functions from any drives `drives` to any probes `probes` can be calculated with\n",
    "```python\n",
    "katFR.getTF(probes, drives)\n",
    "```\n",
    "The variables `probes` and `drives` can be strings specifying the probes and drives or they can be dictionaries specifying linear combinations of probes and drives. For example,\n",
    "```python\n",
    "katFR.getTF('AS_Q', 'EX')\n",
    "```\n",
    "computes the respone at the probe `AS_Q` to motion of the mirror `EX`, while\n",
    "```python\n",
    "katFR.getTF('AS_Q', {'EX': 1/2, 'EY': -1/2})\n",
    "```\n",
    "computes the response at the probe `AS_Q` to the differentional motion of the mirrors `EX` and `EY` moving 180 degrees out of phase.\n",
    "\n",
    "<p>&nbsp;</p>\n",
    "\n",
    "The convenience function `plotTF` directly plots transfer functions. The optional third and fourth arguments are existing magnitude and phase axes so that multiple functions can be plotted on the same plot. Note that using the python `*args` shortcut the following two are equivalent\n",
    "```python\n",
    "plotTF(probes, drives, fig.axes[0], fig.axes[1])\n",
    "plotTF(probes, drives, *fig.axes)\n",
    "```"
   ]
  },
  {
   "cell_type": "code",
   "execution_count": null,
   "metadata": {},
   "outputs": [],
   "source": [
    "fig = katFR.plotTF('REFL_I', 'EX', label='REFL_I')\n",
    "katFR.plotTF('REFL_Q', 'EX', fig.axes[0], fig.axes[1], ls='-.', label='REFL_Q');\n",
    "fig.axes[0].legend()\n",
    "fig.axes[0].set_title('Response to EX Motion')\n",
    "fig.set_size_inches((8, 11));"
   ]
  },
  {
   "cell_type": "markdown",
   "metadata": {},
   "source": [
    "### Other types of frequency response: laser frequency, phase, intensity, and amplitude modulation\n",
    "\n",
    "In addition to the position transfer functions above, QLANCE also calculates angular transfer functions (pitch and yaw) as well as laser frequency, phase, intensity, and amplitude modulation. The torsional spring example gives an example of pitch response. To compute these other transfer functions the model needs to be run for these other degrees of freedom. The same katFR object can be used multiple times:\n",
    "```python\n",
    "katFR.run(fmin, fmax, npts, doftype='pos')   # compute position response (default as above)\n",
    "katFR.run(fmin, fmax, npts, doftype='freq')  # compute laser frequency response\n",
    "katFR.run(fmin, fmax, npts, doftype='amp')   # compute laser intensity response\n",
    "```\n",
    "\n",
    "Transfer functions are computed as before with an additional `doftype` argument. For example, laser frequency modulation is\n",
    "```python\n",
    "katFR.getTF('REFL_I', 'Laser', doftype='freq')\n",
    "```\n",
    "help(katFR.getTF) lists all of the supported transfer functions."
   ]
  },
  {
   "cell_type": "code",
   "execution_count": null,
   "metadata": {},
   "outputs": [],
   "source": [
    "katFR.run(fmin, fmax, npts, doftype='freq', rtype='opt')  # compute laser frequency response\n",
    "katFR.run(fmin, fmax, npts, doftype='amp', rtype='opt')   # compute laser intensity response"
   ]
  },
  {
   "cell_type": "markdown",
   "metadata": {},
   "source": [
    "Finesse calculates laser frequency and intensity modulation. (Note that Optickle computes laser phase and amplitude modulation.) Since frequency is the time derivative of phase, phase modulation is converted to frequency modulation by dividing by $\\mathrm{i}f$. Since intensity is the square of amplitude, amplitude modulation is converted to intensity modulation by dividing by 2."
   ]
  },
  {
   "cell_type": "code",
   "execution_count": null,
   "metadata": {},
   "outputs": [],
   "source": [
    "tf_freq = katFR.getTF('REFL_I', 'Laser', doftype='freq')  # frequency response at REFL_I\n",
    "tf_amp = katFR.getTF('REFL_I', 'Laser', doftype='amp')    # intensity response at REFL_I"
   ]
  },
  {
   "cell_type": "code",
   "execution_count": null,
   "metadata": {},
   "outputs": [],
   "source": [
    "fig = plotTF(ff, tf_freq, label='Frequency [W/Hz]');\n",
    "plotTF(ff, tf_freq*1j*ff, *fig.axes, label='Phase [W/rad]');\n",
    "fig.axes[0].legend()\n",
    "fig.set_size_inches((8, 11));"
   ]
  },
  {
   "cell_type": "code",
   "execution_count": null,
   "metadata": {},
   "outputs": [],
   "source": [
    "fig = katFR.plotTF('REFL_I', 'Laser', doftype='amp');\n",
    "fig.axes[0].set_title('Laser Intensity Response');\n",
    "fig.set_size_inches((8, 11));"
   ]
  },
  {
   "cell_type": "markdown",
   "metadata": {},
   "source": [
    "### Using DegreeOfFreedom\n",
    "\n",
    "Transfer functions can also be computed with `DegreeOfFreedom` instances which are used in control systems. These classes store the drives and doftype of a degree of freedom and can optionally store the probes used to detect them as well.\n",
    "\n",
    "For example all of the following compute the same transfer function\n",
    "```python\n",
    "Laser = DegreeOfFreedom('Laser', doftype='amp', probes='REFL_I')\n",
    "katFR.getTF('REFL_I', 'Laser', doftype='amp')\n",
    "katFR.getTF('REFL_I', Laser)\n",
    "katFR.getTF(Laser)\n",
    "```"
   ]
  },
  {
   "cell_type": "code",
   "execution_count": null,
   "metadata": {
    "scrolled": false
   },
   "outputs": [],
   "source": [
    "Laser1 = DegreeOfFreedom('Laser', doftype='amp')  # probes are optional if specified when calculating the TF\n",
    "Laser2 = DegreeOfFreedom('Laser', probes='REFL_I', doftype='amp')\n",
    "fig = katFR.plotTF('REFL_I', 'Laser', doftype='amp');\n",
    "katFR.plotTF('REFL_I', Laser1, *fig.axes, ls='-.')\n",
    "katFR.plotTF(Laser2, *fig.axes, ls=':')\n",
    "fig.axes[0].set_title('Laser Intensity Response');\n",
    "fig.set_size_inches((8, 11));"
   ]
  },
  {
   "cell_type": "markdown",
   "metadata": {},
   "source": [
    "### Saving and loading optomechanical plants and radiation pressure modifications for future use\n",
    "\n",
    "Note also that the results of a simulation can be exported to an hdf5 file and loaded for future analysis. This is useful in complex models that take a long time to run since they only need to be calculated once and can then be analyzed in the future without having to do the calculations again. Since no simulations are needed for previously run data, Finesse does not need to be installed to analyze previously run data. The exported hdf5 file can then be compared with an Optickle simulation by a user who does not have Finesse. Similarly, simulations run with Optickle can be exported and comparred with a Finesse simulation by a user who does not have Optickle or MATLAB.\n",
    "\n",
    "For example, to save a model to the file `'pdh_freq_resp.hdf5'`\n",
    "```python\n",
    "katFR.save('pdh_freq_resp.hdf5')\n",
    "```\n",
    "and to load it back in a future script\n",
    "```python\n",
    "import qlance.plant as plant\n",
    "katFR = plant.FinessePlant()\n",
    "katFR.load('pdh_freq_resp.hdf5')\n",
    "```\n",
    "All analysis functions can be done on this new `katFR` object created from a previously computed optomechanical plant, but the underlying Finesse `kat` model does not exist anymore so no further Finesse simulations can be run with it.\n",
    "\n",
    "To use a model calculated by Optickle\n",
    "```python\n",
    "opt = plant.OpticklePlant()\n",
    "opt.load('pdh_freq_resp_optickle.hdf5')\n",
    "```\n",
    "The analysis functions on this `opt` object are almost identical to those of the `katFR` object and can be analyzed without Optickle or MATLAB installed."
   ]
  },
  {
   "cell_type": "markdown",
   "metadata": {},
   "source": [
    "<a name=\"sweep\"> </a>\n",
    "\n",
    "## Sweeping Drives\n",
    "\n",
    "To compute the response of a model to sweeping drives, create a `KatSweep` object from that model.\n",
    "```python\n",
    "katSweep = fin.KatSweep(kat, drives)\n",
    "```\n",
    "where `drives` are the drives to be swept. This can be a string specifying a drive or a dictionary specifying a linear combination of drives\n",
    "```python\n",
    "kat1 = fin.KatSweep(kat, 'EX')                     # sweep EX\n",
    "kat2 = fin.KatSweep(kat, {'EX': 1/2, 'EY': -1/2})  # sweep EX - EY\n",
    "```\n",
    "\n",
    "Calling\n",
    "```python\n",
    "katSweep.sweep(spos, epos, npts)\n",
    "```\n",
    "does the actual calculation sweeping the drives from `spos` to `epos` in `npts` points.\n",
    "\n",
    "By default the drives are swept around their operating point, but this can be controlled with the `relative` keyword when defining the `KatSweep` object. For example, suppose that the microscopic tuning of the drive `EX` has been set to 90 degrees with `kat.EX.phi = 90`. Then\n",
    "```python\n",
    "katSweep = fin.KatSweep(kat, 'EX', relative=True)  # default\n",
    "katSweep.sweep(-10, 10, 100)\n",
    "```\n",
    "sweeps the drive `EX` from 80 deg to 100 deg, while\n",
    "```python\n",
    "katSweep = fin.KatSweep(kat, 'EX', relative=False)\n",
    "katSweep.sweep(-10, 10, 100)\n",
    "```\n",
    "sweeps the drive `EX` from -10 to 10 deg."
   ]
  },
  {
   "cell_type": "code",
   "execution_count": null,
   "metadata": {},
   "outputs": [],
   "source": [
    "katSweep = fin.KatSweep(kat, 'EX')\n",
    "\n",
    "# sweep from -5 nm to 5 nm\n",
    "xf = 5e-9 * 360/kat.lambda0  # final position [deg]\n",
    "xi = -xf                     # initial position [deg]\n",
    "katSweep.sweep(xi, xf, 1000)"
   ]
  },
  {
   "cell_type": "markdown",
   "metadata": {},
   "source": [
    "After running the model, the sweep signals are computed with\n",
    "```python\n",
    "poses, sig = katSweep.getSweepSignal(probe, drive)\n",
    "```\n",
    "This returns the signal `sig` as measured by `probe` as a function of the drive `drive` positions `poses`.\n",
    "\n",
    "An optional third argument applies a function to the signal before returning it. Finesse returns complex signals, so even though a signal is real, the numbers are returned with zero imaginary part. We can get the real signal with\n",
    "```python\n",
    "poses, sweepI = katSweep.getSweepSignal('REFL_I', 'EX', np.real)\n",
    "```\n",
    "In our example, `poses` will be the linearly spaced vector of positions from `xi` to `xf` and `sweepI` will be the real signal measured in `REFL_I`.\n",
    "\n",
    "As another example, if a model had the amplitude detector `amp_f1` to measure the amplituded of a sideband, the amplitude of this (complex) signal would be\n",
    "```python\n",
    "poses, amp = katSweep.getSweepSignal('amp_f1', 'EX', func=np.abs)\n",
    "```\n",
    "and the power would be\n",
    "```python\n",
    "poses, power = katSweep.getSweepSignal('amp_f1', 'EX', func=lambda x: np.abs(x)**2)\n",
    "```\n",
    "Of course the signals can be manipulated at will after being calculated; this is just for convenience."
   ]
  },
  {
   "cell_type": "code",
   "execution_count": null,
   "metadata": {},
   "outputs": [],
   "source": [
    "# get the error signals in REFL_I and REFL_Q\n",
    "poses, sweepI = katSweep.getSweepSignal('REFL_I', 'EX', np.real)\n",
    "_, sweepQ = katSweep.getSweepSignal('REFL_Q', 'EX', np.real)"
   ]
  },
  {
   "cell_type": "code",
   "execution_count": null,
   "metadata": {},
   "outputs": [],
   "source": [
    "# compute the slope of the error signals\n",
    "nn = int(len(poses)/2)  # index of the center x0 of the sweep\n",
    "nh = nn + 2             # index of x0 + dx\n",
    "nl = nn - 2             # index of x0 - dx\n",
    "dx = poses[nh] - poses[nl]\n",
    "dI = (sweepI[nh] - sweepI[nl]) / dx\n",
    "dQ = (sweepQ[nh] - sweepQ[nl]) / dx"
   ]
  },
  {
   "cell_type": "markdown",
   "metadata": {},
   "source": [
    "`plotSweepSignal` is another convenience function, like `plotTF`, which plots sweeps directly. The optional fourth argument is an existing figure so that multiple signals can be plotted on the same plot."
   ]
  },
  {
   "cell_type": "code",
   "execution_count": null,
   "metadata": {},
   "outputs": [],
   "source": [
    "fig = katSweep.plotSweepSignal('REFL_I', 'EX', np.real, label='REFL_I')\n",
    "katSweep.plotSweepSignal('REFL_Q', 'EX', np.real, fig, label='REFL_Q')\n",
    "ax = fig.gca()\n",
    "\n",
    "# plot the error signal slopes\n",
    "ymin, ymax = ax.get_ylim()\n",
    "ax.plot(poses, poses*dI, 'C3:', label='dI/dx');\n",
    "ax.plot(poses, poses*dQ, 'C2:', label='dQ/dx');\n",
    "ax.set_ylim(ymin, ymax)\n",
    "\n",
    "ax.legend()\n",
    "ax.set_xlabel('EX position [deg]')\n",
    "ax.set_ylabel('Power [W]');"
   ]
  },
  {
   "cell_type": "code",
   "execution_count": null,
   "metadata": {},
   "outputs": [],
   "source": []
  }
 ],
 "metadata": {
  "kernelspec": {
   "display_name": "sim",
   "language": "python",
   "name": "sim"
  },
  "language_info": {
   "codemirror_mode": {
    "name": "ipython",
    "version": 3
   },
   "file_extension": ".py",
   "mimetype": "text/x-python",
   "name": "python",
   "nbconvert_exporter": "python",
   "pygments_lexer": "ipython3",
   "version": "3.7.3"
  }
 },
 "nbformat": 4,
 "nbformat_minor": 2
}
