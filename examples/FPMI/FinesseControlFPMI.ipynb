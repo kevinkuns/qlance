{
 "cells": [
  {
   "cell_type": "markdown",
   "metadata": {},
   "source": [
    "# Control of a Fabry Perot Michelson Interferometer\n",
    "\n",
    "This notebook sets up a MIMO control loop to control the DARM, CARM, and BS degrees of freedom of an FPMI.\n",
    "\n",
    "[__1.__](#overview) A detailed description of the control loop topology is given first. It is not necessary to understand this in detail before working through the example, but a general familiarity with the diagram will be useful.\n",
    "\n",
    "[__2.__](#suspension) Next, a simple model of a triple suspension is made, with little explanation, since only the result is needed for this example.\n",
    "\n",
    "[__3.__](#om-plant) Then the optomechanical plant is computed with Finesse. The purpose of this notebook is to explain the control system, so this model is built in a separate file.\n",
    "\n",
    "[__4.__](#control-system) Then the control system is defined.\n",
    "\n",
    "[__5.__](#loop-tfs) Some open and closed loop transfer functions are computed.\n",
    "\n",
    "[__6.__](#darm-nb) A simple DARM noise budget is made with the seismic noise from the optics and the sensing noise from all three degrees of freedom.\n",
    "\n",
    "[__7.__](#residual) Finally, the residual in-loop motion of the optics is computed.\n",
    "\n",
    "The OptickleControlFPMI notebook goes through the identical calculations with Optickle. (Section [3](#om-plant) is the only part that has any differences.)"
   ]
  },
  {
   "cell_type": "code",
   "execution_count": null,
   "metadata": {},
   "outputs": [],
   "source": [
    "import numpy as np\n",
    "import qlance.finesse as fin\n",
    "import qlance.controls as ctrl\n",
    "import qlance.filters as filts\n",
    "import qlance.noise as pytnoise\n",
    "import scipy.signal as sig\n",
    "from qlance.plotting import plotTF\n",
    "import matplotlib as mpl\n",
    "import matplotlib.pyplot as plt\n",
    "%matplotlib inline"
   ]
  },
  {
   "cell_type": "code",
   "execution_count": null,
   "metadata": {},
   "outputs": [],
   "source": [
    "mpl.rc('figure', figsize=(8, 11))\n",
    "\n",
    "mpl.rcParams.update({'text.usetex': False,\n",
    "                     'mathtext.fontset': 'cm',\n",
    "                     'lines.linewidth': 3,\n",
    "                     'lines.markersize': 10,\n",
    "                     'font.size': 16,\n",
    "                     'axes.grid': True,\n",
    "                     'grid.alpha': 0.5,\n",
    "                     'legend.loc': 'best',\n",
    "                     'savefig.dpi': 80,\n",
    "                     'pdf.compression': 9})"
   ]
  },
  {
   "cell_type": "code",
   "execution_count": null,
   "metadata": {},
   "outputs": [],
   "source": [
    "import katFPMI\n",
    "import parFPMI"
   ]
  },
  {
   "cell_type": "markdown",
   "metadata": {},
   "source": [
    "<a name=\"overview\"> </a>\n",
    "\n",
    "## Control System Overview\n",
    "\n",
    "*__Note: the QLANCE convention is that control signals are directly summed into the error point without an explicit minus sign.__ Closed-loop transfer functions are thus $(\\mathbb{1} - G)^{-1}$, loops go unstable when open-loop transfer functions $G$ are +1, and the Nyquist criteria requires the Nyquist contour to circle the point +1 clockwise the same number of times as there are right half plane poles in $G$.*\n",
    "\n",
    "Here is a detailed overview of the architecture of the control systems. The topology of a general MIMO system is shown below. It may help to come back to some details after working through parts of the example.\n",
    "\n",
    "<img src=\"../../documentation/control_loop.svg\">\n",
    "Note that if the drive is a pitch or yaw, the units should be taken as $\\mathrm{m}\\to\\mathrm{rad}$ and $\\mathrm{N}\\to\\mathrm{N}\\cdot\\mathrm{m}$.\n",
    "\n",
    "<p>&nbsp;</p>\n",
    "\n",
    "* Signal types. There are three types of signals. The type of signal propagating along each link in the diagram above is shown in red. The units of each signal are also marked.\n",
    "    * Drives: These are the inputs to a model, for example mirror motion (longitudinal, pitch, or yaw) or laser frequency modulation.\n",
    "    * Probes: These are the photodiodes that sense the power at various ports of the model, for example `REFL_I`, `AS_Q`, etc.\n",
    "    * Degrees of Freedom (DOFs): These are the degrees of freedom relevant to the model, for example DARM, CARM, MICH, PRCL, and SRCL for the longitudinal DOFs in a dual-recycled Fabry Perot Michelson interferometer.\n",
    "    \n",
    "<p>&nbsp;</p>\n",
    "    \n",
    "* The blocks have the following meanings:\n",
    "    * The optomechanical plant $P_\\mathrm{om}$ is the AC transfer function from drives to probes and is what Finesse calculates with `kat.getTF(probe, drive)`. Conceptually it can be broken down into a radiation pressure \"loop suppression function\" $R$ which modifies the mechanical response of mirrors and an optical plant $P_\\mathrm{opt}$ which only includes the optical response. See below for details.\n",
    "\n",
    "    * The input matrix $I$ defines which probes are used to sense each DOF.\n",
    "\n",
    "    * The control filters $C$ define the feedback and feedforward dynamics of the loop.\n",
    "    \n",
    "    * The output matrix $O$ defines which combinations of drives make up each DOF.\n",
    "\n",
    "    * The actuation function $A$ is the transfer function from the point that the control loop actuates on each drive to the motion of that drive. In the example of a multi-stage suspension used for a test mass mirror, the position of the mirror may be actuated on by applying a force on the stage above rather than on the mirror itself. The function $A$ is then the mechanical plant from forces on this stage to test mass motion.\n",
    "    \n",
    "    * The compensation filters $K$ invert the actuation plants with the goal to make $AK\\approx \\mathbb{1}$. (In practice the entire block $KOCI$ can be thought of as the (possibly digital) controller, but it is more convenient to break this up as shown in the diagram above.)\n",
    "\n",
    "<p>&nbsp;</p>\n",
    "\n",
    "* Test points. These are the points along the loop where signals can be probed or injected and are marked as arrows going into or out of the loop.\n",
    "    * The difference between the $x_\\mathrm{drive}$ and $x_\\mathrm{pos}$ test points is described in detail below, but can be understood simply as follows. The effects of radiation pressure can be thought of as a feedback loop. The block $R$ is the closed loop transfer function of this radiation pressure loop, $x_\\mathrm{drive}$ is the input signal to the loop, and $x_\\mathrm{pos}$ is the output signal from the loop.\n",
    "    * The name used in QLANCE to refer to each test point is the same as the subscript in the figure. So, for example, to compute the transfer function from $d_\\mathrm{err}$ to $x_\\mathrm{pos}$, you'd use `cs.getTF(sig_to, pos, sig_from, err)`\n",
    "    * The test point `spot` is not shown in the diagram but exists for angular DOFs to convert the test point `drive` into beamspot motion on an optic.\n",
    "    * With the exception of `pos` (which only probes a signal) and `cal` (which only injects a signal), all test points can both probe and inject signals.\n",
    "\n",
    "\n",
    "### Detailed description of the optomechanical plant and related test points\n",
    "\n",
    "The following may be skipped at first but is included to give a complete understanding of the optomechanical plant and of the difference between the $x_\\mathrm{pos}$, $x_\\mathrm{drive}$, and $d_\\mathrm{act}$ test points.\n",
    "\n",
    "<p>&nbsp;</p>\n",
    "\n",
    "Consider a model with $n_\\mathrm{f}$ optical field components described by the vector $E=[E_1, \\dots, E_{n_\\mathrm{f}}]^T$ and $n_\\mathrm{d}$ drives described by the vector $x=[x_1, \\dots, x_{n_\\mathrm{d}}]^T$. The job of Finesse is to find $E$ and $x$ for a given excitation $E_\\mathrm{exc}$ and $x_\\mathrm{exc}$. They are related by\n",
    "\n",
    "$$ \\begin{bmatrix}\n",
    "E\\\\\n",
    "x\n",
    "\\end{bmatrix}\n",
    "=\n",
    "\\begin{bmatrix}\n",
    "G_{\\mathrm{ff}} & G_{\\mathrm{fd}}\\\\\n",
    "G_{\\mathrm{df}} & G_{\\mathrm{dd}}\n",
    "\\end{bmatrix}\n",
    "\\begin{bmatrix}\n",
    "E\\\\\n",
    "x\n",
    "\\end{bmatrix}\n",
    "+\n",
    "\\begin{bmatrix}\n",
    "E_\\mathrm{exc}\\\\\n",
    "x_\\mathrm{exc}\n",
    "\\end{bmatrix}.\n",
    "$$\n",
    "When we build a model by adding optics, drives, and links, we define the response of fields to other fields $G_\\mathrm{ff}$ and to drives $G_\\mathrm{fd}$. Setting mechanical transfer functions with `setMechTF(kat, 'optic', z, p, k)` completes the definition of the radiation pressure induced response of drives to fields $G_\\mathrm{df}$ and to other drives $G_\\mathrm{dd}$. The solution to the above equation, which is found by calling `katFR.run(fmin, fmax, npts)`, is\n",
    "$$\\begin{bmatrix}\n",
    "E\\\\\n",
    "x\n",
    "\\end{bmatrix}\n",
    "=\n",
    "\\left(\\mathbb{1} - G\\right)^{-1} \\begin{bmatrix}\n",
    "E_\\mathrm{exc}\\\\\n",
    "x_\\mathrm{exc}\n",
    "\\end{bmatrix}\n",
    "$$\n",
    "\n",
    "<p>&nbsp;</p>\n",
    "\n",
    "To separate the optical response from radiation pressure effects, first consider just the fields. *In the absence of drives and just considering excitations of the fields themselves*, i.e. $G$ is just the upper left block $G_{\\mathrm{ff}}$, the solution is\n",
    "$$E = \\left(\\mathbb{1} - G_\\mathrm{ff}\\right)^{-1} E_\\mathrm{exc} \\equiv H_\\mathrm{ff} E_\\mathrm{exc}.$$\n",
    "However, we do not measure or excite fields directly. Instead it is the power on photodiodes that is measured, and there is some matrix $S$ that converts the fields in the model to the power measured at the photdiodes. The fields are excited by modulating drives, whether that is driving an amplitude or phase modulator or modulating the position of a mirror. We can thus write the excitation as $E_\\mathrm{exc} = G_\\mathrm{fd} x_\\mathrm{pos}$ where $x_\\mathrm{pos}$ is the modulation leading to this excitation. Then the optical plant is the optical response taking into account the physical production and measurement of excitations:\n",
    "$$ P_\\mathrm{opt} = S H_\\mathrm{ff} G_\\mathrm{fd}.$$\n",
    "The important point is that $P_\\mathrm{opt}$ only includes the dynamics of the fields themselves. Writing $E_\\mathrm{exc} = G_\\mathrm{fd} x_\\mathrm{pos}$ just describes how the field excitations could be generated by modulating drives. QLANCE does not currently calculate $P_\\mathrm{opt}$ separately because Finesse does not compute it directly and it is not straightforward to extract.\n",
    "\n",
    "<p>&nbsp;</p>\n",
    "\n",
    "Radiation pressure is itself a feedback loop with open loop transfer function $G_\\mathrm{dd} + G_\\mathrm{df}H_\\mathrm{ff}G_\\mathrm{fd}$. The drives are therefore related to each other through the radiation pressure loop suppression function\n",
    "$$x = \\left(\\mathbb{1} - G_\\mathrm{dd} - G_\\mathrm{df}H_\\mathrm{ff}G_\\mathrm{fd}\\right)^{-1} x_\\mathrm{exc}\n",
    "\\equiv R x_\\mathrm{exc}.$$\n",
    "Calling `katFR.getMechMod(drive_out, drive_in)` computes $R$. The optomechanical plant includes the radiation pressure modification to the drives\n",
    "$$P_\\mathrm{om} = P_\\mathrm{opt} R.$$\n",
    "Calling `katFR.getTF(probes, drives)` calculates $P_\\mathrm{om}$. As an example, in a detuned cavity $P_\\mathrm{opt}$ includes the optical resonance but not the up-shifted mechanical resonance from the optical spring. The latter effect is described by $R$.\n",
    "\n",
    "<p>&nbsp;</p>\n",
    "\n",
    "The meaning of the test points is then the following\n",
    "  * $x_\\mathrm{pos}$: the actual location or angle of a mirror.\n",
    "  * $d_\\mathrm{act}$: the force used to actuate on the mirror. If the mirror is suspended from a multi-stage pendulum and actuated on from the stage above it, $A$ is the mirror response to forces acting on the stage above it. If the actuation is to the mirror itself and the mirror can be treated as a free mass, $A=1/m s^2$.\n",
    "  * $x_\\mathrm{drive}$: the position of the mirror if it were not part of an optical system and thus not subject to radiation pressure feedback. In the example of a free mass with a force $F$ applied directly to it $x_\\mathrm{pos} = -F/m\\omega^2$. In general, $x_\\mathrm{pos} = AF$. If the mass is suspended from a multistage suspension and the displacement noise of the suspension point, in $\\mathrm{m}/\\mathrm{Hz}^{1/2}$, is known to be $S_\\mathrm{sp}^{1/2}$, this noise should be injected into the loop at $x_\\mathrm{drive}$. If $T$ is the transfer function from suspension point displacement to mirror displacement, the displacement noise of the mirror in an optical system is then $S_\\mathrm{mirr}^{1/2} = \\left| RT \\right| S_\\mathrm{sp}^{1/2}$.\n",
    "  \n",
    "<p>&nbsp;</p>\n",
    "\n",
    "*__Note: the above description of the optomechanical plant is conceptually correct but is not how the calculations are done internally.__ So do not try to calculate $P_\\mathrm{opt}$ as $P_\\mathrm{om}R^{-1}$.*"
   ]
  },
  {
   "cell_type": "markdown",
   "metadata": {},
   "source": [
    "<a name=\"suspension\"> </a>\n",
    "\n",
    "## Suspensions (Optional Step)\n",
    "\n",
    "You'll usually get the suspension, or other actuation, model (if used at all) from somewhere else. You can just run the cells in this section and continue.\n",
    "\n",
    "For the sake of this example, we'll make a simple model of a triple suspension as a three mass system coupled by springs. A convenient way to find the mechanical plant for the suspensions is to use the state space representation\n",
    "\n",
    "\\begin{align}\n",
    "\\dot{x} &= Ax + Bu\\\\\n",
    "y &= Cx + Du\n",
    "\\end{align}\n",
    "where $x$ is the state vector of the system, $u$ is a vector of inputs, $y$ is the observation vector, and $A$ encodes the equations of motion."
   ]
  },
  {
   "cell_type": "code",
   "execution_count": null,
   "metadata": {},
   "outputs": [],
   "source": [
    "def define_filt(zpk):\n",
    "    \"\"\"Define a QLANCE Filter from a scipy.signal zpk object\n",
    "    \"\"\"\n",
    "    return filts.ZPKFilter(zpk.zeros, zpk.poles, zpk.gain, Hz=False)"
   ]
  },
  {
   "cell_type": "code",
   "execution_count": null,
   "metadata": {},
   "outputs": [],
   "source": [
    "# rough starting guesses for resonances and Q's\n",
    "w1 = 2*np.pi*0.1\n",
    "w2 = 2*np.pi*0.1\n",
    "w3 = 2*np.pi*1\n",
    "Q1 = 100\n",
    "Q2 = 100\n",
    "Q3 = 100\n",
    "m1 = 600\n",
    "m2 = 400\n",
    "m3 = 100\n",
    "\n",
    "k1 = w1**2 * m1\n",
    "k2 = w2**2 * m2\n",
    "k3 = w3**2 * m3\n",
    "\n",
    "KK = np.array([[-(k1 + k2)/m1, k2/m1, 0],\n",
    "               [k2/m2, -(k2 + k3)/m2, k3/m2],\n",
    "               [0, k3/m3, -k3/m3]])\n",
    "\n",
    "A = np.block([[np.zeros((3, 3)), np.eye(3)],\n",
    "               [KK, np.diag([-w1/Q1, -w2/Q2, -w3/Q3])]])\n",
    "\n",
    "B_tst = np.zeros((6, 1))\n",
    "B_pum = np.zeros((6, 1))\n",
    "B_sus = np.zeros((6, 1))\n",
    "C_tst = np.zeros((1, 6))\n",
    "B_tst[5, 0] = 1/m3   # force on test mass\n",
    "B_pum[4, 0] = 1/m2   # force on PUM\n",
    "B_sus[3, 0] = k1/m1  # suspension point motion\n",
    "C_tst[0, 2] = 1      # observe test mass motion\n",
    "D = np.array([[0]])"
   ]
  },
  {
   "cell_type": "code",
   "execution_count": null,
   "metadata": {},
   "outputs": [],
   "source": [
    "# compute state space representation\n",
    "ss_tst = sig.StateSpace(A, B_tst, C_tst, D)\n",
    "ss_pum = sig.StateSpace(A, B_pum, C_tst, D)\n",
    "ss_sus = sig.StateSpace(A, B_sus, C_tst, D)\n",
    "\n",
    "# convert to zpk\n",
    "zpk_tst = ss_tst.to_zpk()\n",
    "zpk_pum = ss_pum.to_zpk()\n",
    "zpk_sus = ss_sus.to_zpk()\n",
    "\n",
    "# convert to QLANCE Filters\n",
    "tst2tst = define_filt(zpk_tst)  # test mass force to position\n",
    "pum2tst = define_filt(zpk_pum)  # PUM force to test mass position\n",
    "sus2tst = define_filt(zpk_sus)  # sus point position to test mass position"
   ]
  },
  {
   "cell_type": "code",
   "execution_count": null,
   "metadata": {},
   "outputs": [],
   "source": [
    "ff2 = np.logspace(-2, 2, 500)"
   ]
  },
  {
   "cell_type": "code",
   "execution_count": null,
   "metadata": {},
   "outputs": [],
   "source": [
    "fig = tst2tst.plotFilter(ff2, label='TM');\n",
    "pum2tst.plotFilter(ff2, *fig.axes, label='PUM')\n",
    "sus2tst.plotFilter(ff2, *fig.axes, label='SUS')\n",
    "plotTF(ff2, 1/(m3*(2*np.pi*ff2)**2), *fig.axes, ls='-.', label='Free mass')\n",
    "fig.axes[0].legend();\n",
    "fig.axes[0].set_title('Test Mass Displacement');"
   ]
  },
  {
   "cell_type": "markdown",
   "metadata": {},
   "source": [
    "<a name=\"om-plant\"> </a>\n",
    "\n",
    "## Compute the optomechanical plant\n",
    "\n",
    "The function `katFPMI` creates a Finesse model of a Fabry Perot Michelson interferometer using the parameters specified by the function `parFPMI` which takes as arguments the mechanical plants for the optics. The mechanical transfer functions of all the optics are set using\n",
    "```python\n",
    "fin.setMechTF(kat, 'optic', z, p, z)\n",
    "```\n",
    "commands in this function. Since this is the mechanical transfer function from forces on the test mass (where radiation pressure acts) to position on the test mass, we should use the `zpk_tst` part of the suspension model, which falls like $1/f^2$ above the suspension resonances, here.\n",
    "\n",
    "Note that the `kat` model used in a QLANCE control system simulation does not have to be created in QLANCE and can, for example, be generated by PyKat by parsing classic Finesse code. It is also possible to compute the optomechanical plant once, save it, and load it back for future use as is explained in the basic Fabry Perot example. The steps in the following three cells would then be unnecessary."
   ]
  },
  {
   "cell_type": "code",
   "execution_count": null,
   "metadata": {},
   "outputs": [],
   "source": [
    "par = parFPMI.parFPMI(zpk_tst.zeros, zpk_tst.poles, zpk_tst.gain)\n",
    "\n",
    "kat = katFPMI.katFPMI(par)"
   ]
  },
  {
   "cell_type": "markdown",
   "metadata": {},
   "source": [
    "By default, the response of a Finesse model to all drives is computed. With complex models this can take some time. The computation time can be reduced if only a subset of the drives will be needed for further computations by\n",
    "```python\n",
    "katFR = fin.KatFR(kat, all_drives=False)\n",
    "katFR.addDrives(drive_list)  # add with a list\n",
    "katFR.addDrives('EX')        # or add additional drives one at a time\n",
    "```\n",
    "\n",
    "Even if the Finesse `kat` model was created outside of QLANCE, a QLANCE `KatFR` frequency response model must be generated from it."
   ]
  },
  {
   "cell_type": "code",
   "execution_count": null,
   "metadata": {},
   "outputs": [],
   "source": [
    "# We are only going to use the ETM's and the beamsplitter below\n",
    "katFR = fin.KatFR(kat, all_drives=False)\n",
    "katFR.addDrives(['EX', 'EY', 'BS'])"
   ]
  },
  {
   "cell_type": "code",
   "execution_count": null,
   "metadata": {},
   "outputs": [],
   "source": [
    "# Run the model\n",
    "fmin = 0.3\n",
    "fmax = 1e3\n",
    "npts = 400\n",
    "katFR.run(fmin, fmax, npts)"
   ]
  },
  {
   "cell_type": "code",
   "execution_count": null,
   "metadata": {},
   "outputs": [],
   "source": [
    "ff = katFR.ff  # get the frequency vector used to calculate the frequency response"
   ]
  },
  {
   "cell_type": "code",
   "execution_count": null,
   "metadata": {},
   "outputs": [],
   "source": [
    "# Define the probes that will be used to sense each DOF. See more below.\n",
    "DARM = dict(EX=1/2, EY=-1/2)\n",
    "CARM = dict(EX=1/2, EY=1/2)\n",
    "\n",
    "probesDARM = {'AS_Q': 1/np.abs(katFR.getTF('AS_Q', DARM)[0])}\n",
    "probesCARM = {'REFL_I': 1/np.abs(katFR.getTF('REFL_I', CARM)[0])}\n",
    "probesBS   = {'REFL_Q': 1/np.abs(katFR.getTF('REFL_Q', 'BS')[0])}"
   ]
  },
  {
   "cell_type": "markdown",
   "metadata": {},
   "source": [
    "<a name=\"control-system\"> </a>\n",
    "\n",
    "## Define control system"
   ]
  },
  {
   "cell_type": "markdown",
   "metadata": {},
   "source": [
    "### Control filters\n",
    "\n",
    "The first step in defining a control system is to specify the filters. These filters can be defined in three ways:\n",
    "\n",
    "1. Giving a standard zpk definition\n",
    "```python\n",
    "filt = filts.ZPKFilter(z, p, k)\n",
    "```\n",
    "where `z` and `p` are arrays with the zeros and poles and `k` is a scalar specifying the gain.\n",
    "2. Giving a zpk definition but specifying the gain at a specific frequency. To set the gain to be `k0` at frequency `f0` use\n",
    "```python\n",
    "filt = filts.ZPKFilter(z, p, k0, f0)\n",
    "```\n",
    "3. Giving a callable function that is the frequency domain filter\n",
    "```python\n",
    "filt = filts.FreqFilter(func)\n",
    "```\n",
    "\n",
    "<p>&nbsp;</p>\n",
    "\n",
    "By default the zeros and poles are real frequencies specified in Hz. Using `Hz=False` specifies the frequencies in the s-domain instead. For example, all of the following specify the same single pole low-pass filter with 1 Hz corner frequency\n",
    "```python\n",
    "filts.ZPKFilter([], 1, 1)\n",
    "filts.ZPKFilter([], -2*np.pi, 1, Hz=False)\n",
    "filts.FreqFilter(lambda f: 1/(2*np.pi*(1 + 1j*f)))\n",
    "filts.FreqFilter(lambda s: 1/(s + 2*np.pi), Hz=False)\n",
    "```\n",
    "\n",
    "<p>&nbsp;</p>\n",
    "\n",
    "Filter banks can also be defined. `ZPKFilterBank`, `SOSFilterBank`, and `FreqFilterBank` work the same way. As an example\n",
    "```python\n",
    "fbank = filts.ZPKFilterBank(name='filter bank name')  # name is optional\n",
    "fbank.addFilterModule(zpk_filter1, name='name of filter module')\n",
    "fbank.addFilterModule(zpk_filter2)  # name is optional\n",
    "```\n",
    "Filter modules can then be turned on and off by specifying the (1-based) filter module number. `turn_on` specifies which filter modules to turn on but does not turn any modules off. `engage` sets the state of the filter bank, so any previously engaged modules not listed are turned off. `turn_off` turns modules off\n",
    "```python\n",
    "fbank.engage(1, 3, 5, 8)  # turn on filter modules 1, 3, 5, and 8\n",
    "fbank.turn_off(3, 8)      # turn off modules 3 and 8; 1 and 5 are now engaged\n",
    "fbank.turn_on(2, 3)       # turn on 2 and 3; the state is 1, 2, 3, 5, 8\n",
    "```\n",
    "The overall gain of the filter bank is specified by `fbank.gain` and is 1 by default. The current state of the filter bank is shown by `print(fbank)`.\n",
    "\n",
    "SOSFilters and filter banks can also be defined and can be read in directly from foton files. For example to load the `LSC_DARM1` filter bank from the file `H1OMC.txt`\n",
    "```python\n",
    "filter_DARM1 = filts.SOSFilterBank.from_foton_file('h1_filters/H1OMC.txt', 'LSC_DARM1')\n",
    "```\n",
    "\n",
    "<p>&nbsp;</p>\n",
    "\n",
    "There are a few convenience functions for defining filters\n",
    "* The function `resRoots(f0, Q)` computes the two conjugate roots of a resonance specified by a resonance frequency `f0` and quality factor `Q`\n",
    "$$r_\\pm = \\frac{f_0}{2Q}\\left(1 \\pm \\sqrt{1 - 4Q^2}\\right)$$\n",
    "As with the filter definitions, `resRoots` returns the roots as real frequencies in Hz by default but will instead give s-domain frequencies using `Hz=False`.\n",
    "* Multiple filters can be combined into a single filter with `catfilt`. For example\n",
    "```python\n",
    "filt = filts.catfilt(filt1, filt2, filt3)\n",
    "```\n",
    "* Lists of zeros and poles can be combined with `catzp`. For example, a pole at 1 Hz and a complex pair of poles corresponding to a 50 Hz resonance with a Q of 100 can be defined with\n",
    "```python\n",
    "poles = filts.catzp(1, filt.resRoots(50, 10))\n",
    "```"
   ]
  },
  {
   "cell_type": "code",
   "execution_count": null,
   "metadata": {},
   "outputs": [],
   "source": [
    "# define the DOF filters\n",
    "filtDARM = filts.ZPKFilter(\n",
    "    filts.catzp(filts.resRoots(2, 1), filts.resRoots(5, 1)),\n",
    "    filts.catzp(0, 0, 0, filts.resRoots(0.5, 1), filts.resRoots(110, 1)),\n",
    "    -1, 20\n",
    ")\n",
    "\n",
    "filtCARM = filts.ZPKFilterBank(name='CARM')\n",
    "filtCARM.addFilterModule(\n",
    "    filts.ZPKFilter(filts.resRoots(2, 1), [], 1),\n",
    "    name='f2Q1'\n",
    ")\n",
    "filtCARM.addFilterModule(\n",
    "    filts.ZPKFilter(filts.resRoots(5, 1), [], 1),\n",
    "    name='f5Q1'\n",
    ")\n",
    "filtCARM.addFilterModule(\n",
    "    filts.ZPKFilter([], [0, 0, 0], 2),\n",
    ")\n",
    "filtCARM.addFilterModule(\n",
    "    filts.ZPKFilter([], filts.resRoots(0.5, 1), 1e6),\n",
    "    name='f0.5Q1'\n",
    ")\n",
    "filtCARM.addFilterModule(\n",
    "    filts.ZPKFilter([], filts.resRoots(110, 1), 1),\n",
    "    name='f110Q1'\n",
    ")\n",
    "\n",
    "filtBS = filts.ZPKFilter(\n",
    "    filts.catzp(filts.resRoots(1, 1), filts.resRoots(3, 1)),\n",
    "    filts.catzp(0, 0, 0, filts.resRoots(0.3, 1), filts.resRoots(90, 1)),\n",
    "    -1, 15\n",
    ")\n",
    "\n",
    "# simple constant feedforward filter\n",
    "filtFF   = filts.ZPKFilter([], [], -4.98e-3)\n",
    "# filtFF   = filt.ZPKFilter([], [], 0)"
   ]
  },
  {
   "cell_type": "code",
   "execution_count": null,
   "metadata": {},
   "outputs": [],
   "source": [
    "# engage filter modules in the CARM filter bank and set overall gain\n",
    "# could also specify directly which filter modules to turn on, e.g.\n",
    "# filtCARM.engage(2, 4, 5)\n",
    "filtCARM.engage('all')\n",
    "filtCARM.gain = -30  # 1 by default if not specified\n",
    "print(filtCARM)"
   ]
  },
  {
   "cell_type": "markdown",
   "metadata": {},
   "source": [
    "A simple constant gain filter has been defined for feedforward subtraction of BS motion to DARM. Without the feedforward subtraction of beamsplitter motion, the sensing noise from `REFL_Q` used to sense BS would limit the DARM sensitivity until about 100 Hz. Set the feedforward gain to zero and rerun the cells below to see the effects of the feedforward."
   ]
  },
  {
   "cell_type": "code",
   "execution_count": null,
   "metadata": {},
   "outputs": [],
   "source": [
    "# plot the filters\n",
    "fig = filtDARM.plotFilter(ff, label='DARM')\n",
    "filtCARM.plotFilter(ff, *fig.axes, ls='-.', label='CARM')\n",
    "filtBS.plotFilter(ff, *fig.axes, ls=':', label='BS')\n",
    "fig.axes[0].legend();\n",
    "fig.axes[0].set_ylim(1e-3, 1e4);"
   ]
  },
  {
   "cell_type": "markdown",
   "metadata": {},
   "source": [
    "### Degrees of freedom\n",
    "\n",
    "The next step is to define the degrees of freedom and the filters between them. Start a new control system with\n",
    "```python\n",
    "cs = ctrl.ControlSystem()\n",
    "```\n",
    "and then add degrees of freedom with\n",
    "```python\n",
    "cs.addDOF(dof_name, probes, drives, doftype)\n",
    "```\n",
    "where `dof_name` is the name of the DOF, `probes` are the probes used to sense it and `drives` are the drives that define it. Both `probes` and `drives` can be strings or dictionaries, just as in `opt.getTF(probes, drives)`. `doftype` specifies whether the drive is longitudinal motion, pitch, yaw, etc. By default, `doftype` is longitudinal motion. (This defines both the input $I$ and output $O$ matrices in the diagram above.)\n",
    "\n",
    "<p>&nbsp;</p>\n",
    "\n",
    "Next add the control filters between the DOFs with\n",
    "```python\n",
    "cs.addFilter(dof_to, dof_from, filt)\n",
    "```\n",
    "(This defines the control block $C$ in the diagram above.) Note that to feedforward the control signal from `dof1` to `dof2`, you should concatenate the `dof1` control filter `filt1` with the feedforward filter `filt_ff` (otherwise it would be the `dof1` error signal being fedforward):\n",
    "```python\n",
    "cs.addFilter(dof2, dof1, filt.catfilt(filt_ff, filt1))\n",
    "```\n",
    "\n",
    "<p>&nbsp;</p>\n",
    "\n",
    "Finally specify which Finesse model to use for the optomechanical plant ($P_\\mathrm{om}$ in the diagram above)\n",
    "```python\n",
    "cs.setOptomechanicalPlant(katFR)\n",
    "```\n",
    "Note that `katFR` should have already been run.\n",
    "\n",
    "<p>&nbsp;</p>\n",
    "\n",
    "A `DegreeOfFreedom` can also be defined with the `drives`, `probes`, and `doftype` and a name\n",
    "```python\n",
    "dof = ctrl.DegreeOfFreedom(drives, probes=probes, name=dof_name)\n",
    "```\n",
    "This degree of freedom could then be added to the control system as\n",
    "```python\n",
    "cs.addDOF(dof)\n",
    "```"
   ]
  },
  {
   "cell_type": "code",
   "execution_count": null,
   "metadata": {},
   "outputs": [],
   "source": [
    "# Define control system\n",
    "cs = ctrl.ControlSystem()\n",
    "\n",
    "# define degrees of freedom\n",
    "BS = ctrl.DegreeOfFreedom('BS', probes=probesBS, name='BS')\n",
    "cs.addDOF('DARM', probesDARM, DARM)\n",
    "cs.addDOF('CARM', probesCARM, CARM)\n",
    "cs.addDOF(BS)\n",
    "\n",
    "# define control filters\n",
    "cs.addFilter('DARM', 'DARM', filtDARM)\n",
    "cs.addFilter('CARM', 'CARM', filtCARM)\n",
    "cs.addFilter('BS', 'BS', filtBS)\n",
    "\n",
    "# add the feedforward\n",
    "cs.addFilter('DARM', 'BS', filts.catfilt(filtFF, filtBS))\n",
    "\n",
    "# set the optomechanical plant\n",
    "cs.setOptomechanicalPlant(katFR)"
   ]
  },
  {
   "cell_type": "markdown",
   "metadata": {},
   "source": [
    "In practice, even if only a single probe is used to sense a given DOF, it is useful to define it as a one element dictionary and divide by the DC response (as we've done here) so that $d_\\mathrm{err} \\sim x_\\mathrm{cal}$ at DC. In this example, we would have had instead $d_\\mathrm{err}\\sim 10^{10}\\, x_\\mathrm{cal}$ if we had used `AS_Q` instead of `probesDARM` (and would have had to appropriately scale the filter gains by this ammount).\n",
    "\n",
    "<p>&nbsp;</p>\n",
    "\n",
    "Finally note that uncontrolled degrees of freedom an be added simply by adding them with `addDOF` but not adding any control filters for them. Since these degrees of freedom do not need to be sensed, they can be defined with empty `probe` dictionaries as well."
   ]
  },
  {
   "cell_type": "markdown",
   "metadata": {},
   "source": [
    "### Actuation and compensation (Optional)\n",
    "\n",
    "The final step is to add actuators and compensation filters. Since the goal is to make $AK\\approx\\mathbb{1}$, this step is optional. If nothing is defined, QLANCE will assume that $AK = \\mathbb{1}$.\n",
    "\n",
    "Actuators and compensation filters should also be `Filter` objects. Set the actuators and compensatation filters for each drive with\n",
    "```python\n",
    "cs.setActuator(drive, drive_type, act_filt)\n",
    "cs.addCompensator(drive, drive_type, comp_filt)\n",
    "```\n",
    "\n",
    "This control system is going to actuate on test mass position by applying forces on the PUM, the stage above the test mass, rather than directly on the test mass itself. We should thus use the `pum2tst` part of the suspension model, which falls like $1/f^4$ above the suspension resonances, here."
   ]
  },
  {
   "cell_type": "code",
   "execution_count": null,
   "metadata": {},
   "outputs": [],
   "source": [
    "# Use low Q resonances to partially compensate for the suspension plants\n",
    "gainf0 = 1/np.abs(pum2tst.computeFilter(10))\n",
    "pum2tst_comp = filts.ZPKFilter(\n",
    "    filts.catzp(filts.resRoots(63e-3, 10), filts.resRoots(0.145, 10), filts.resRoots(1.12, 15)),\n",
    "    filts.resRoots(0.13, 10),\n",
    "    gainf0, 10)\n",
    "mechTF = filts.catfilt(pum2tst, pum2tst_comp)  # total transfer function from ctrl to drive"
   ]
  },
  {
   "cell_type": "code",
   "execution_count": null,
   "metadata": {},
   "outputs": [],
   "source": [
    "ff2 = np.logspace(-2, 1, 500)"
   ]
  },
  {
   "cell_type": "code",
   "execution_count": null,
   "metadata": {},
   "outputs": [],
   "source": [
    "# plot the results\n",
    "fig = pum2tst.plotFilter(ff2, label='Mechanical Plant');\n",
    "pum2tst_comp.plotFilter(ff2, *fig.axes, label='Compensation');\n",
    "mechTF.plotFilter(ff2, *fig.axes, label='Total control to drives');\n",
    "fig.axes[0].legend();\n",
    "fig.axes[0].set_ylim(1e-7, 1e7);"
   ]
  },
  {
   "cell_type": "code",
   "execution_count": null,
   "metadata": {},
   "outputs": [],
   "source": [
    "# in more complicted models, the different drives could have different filters\n",
    "for drive in ['EX', 'EY', 'BS']:\n",
    "    cs.setActuator(drive, 'pos', pum2tst)\n",
    "    cs.addCompensator(drive, 'pos', pum2tst_comp)"
   ]
  },
  {
   "cell_type": "markdown",
   "metadata": {},
   "source": [
    "<a name=\"loop-tfs\"> </a>\n",
    "\n",
    "## Run the simulation"
   ]
  },
  {
   "cell_type": "code",
   "execution_count": null,
   "metadata": {},
   "outputs": [],
   "source": [
    "cs.run()"
   ]
  },
  {
   "cell_type": "code",
   "execution_count": null,
   "metadata": {},
   "outputs": [],
   "source": [
    "# compute stability margins for the loops\n",
    "cs.print_margins('err')"
   ]
  },
  {
   "cell_type": "markdown",
   "metadata": {},
   "source": [
    "## Compute some loop transfer functions\n",
    "\n",
    "Transfer functions from any signal `sig_fr` at one test point `tst_fr` to any other signal `sig_to` at another test point `tst_to` can be calculated either closed loop with\n",
    "```python\n",
    "cs.getTF(sig_to, tst_to, sig_fr, tst_fr)\n",
    "```\n",
    "or open loop with\n",
    "```python\n",
    "cs.getTF(sig_to, tst_to, sig_fr, tst_fr, closed=False)\n",
    "```\n",
    "\n",
    "The full matrix can be returned by leaving the signals blank:\n",
    "```python\n",
    "cs.getTF('', tst_to, '', tst_fr)\n",
    "```"
   ]
  },
  {
   "cell_type": "markdown",
   "metadata": {},
   "source": [
    "#### Open loop transfer functions\n",
    "\n",
    "Open loop transfer functions from `sig_fr` to `sig_to` breaking the loop at the `tstpnt` test point are computed with\n",
    "```python\n",
    "cs.getOLTF(sig_to, sig_fr, tstpnt)\n",
    "```"
   ]
  },
  {
   "cell_type": "code",
   "execution_count": null,
   "metadata": {},
   "outputs": [],
   "source": [
    "fig = plotTF(ff, cs.getOLTF('DARM', 'DARM', 'err'), label='DARM')\n",
    "plotTF(ff, cs.getOLTF('CARM', 'CARM', 'err'), *fig.axes, ls='-.', label='CARM')\n",
    "plotTF(ff, cs.getOLTF('BS', 'BS', 'err'), *fig.axes, ls=':', label='BS')\n",
    "fig.axes[0].legend()\n",
    "fig.axes[0].set_title('Open Loop Transfer Functions')\n",
    "fig.axes[0].set_ylim(1e-3, 1e4);"
   ]
  },
  {
   "cell_type": "markdown",
   "metadata": {},
   "source": [
    "#### Closed loop transfer functions\n",
    "\n",
    "If $G$ is an open loop transfer function, $(\\mathbb{1} - G)^{-1}$ is the corresponding closed loop transfer function. Closed loop transfer functions from `sig_fr` to `sig_to` breaking the loop at the `tstpnt` test point are similarly computed with\n",
    "```python\n",
    "cs.getCLTF(sig_to, sig_fr, tstpnt)\n",
    "```"
   ]
  },
  {
   "cell_type": "code",
   "execution_count": null,
   "metadata": {},
   "outputs": [],
   "source": [
    "fig = plotTF(ff, cs.getCLTF('DARM', 'DARM', 'err'), label='DARM')\n",
    "plotTF(ff, cs.getCLTF('CARM', 'CARM', 'err'), *fig.axes, ls='-.', label='CARM')\n",
    "plotTF(ff, cs.getCLTF('BS', 'BS', 'err'), *fig.axes, ls=':', label='BS')\n",
    "fig.axes[0].legend()\n",
    "fig.axes[0].set_title('Closed Loop Transfer Functions')\n",
    "fig.axes[0].set_ylim(1e-4, 10);"
   ]
  },
  {
   "cell_type": "markdown",
   "metadata": {},
   "source": [
    "#### DOF cross couplings\n",
    "\n",
    "Cross couplings between the degrees of freedom are calculated when `sig_to` and `sig_fr` are different. Here we plot the open-loop cross couplings from the auxiliary DOFs CARM and BS to DARM."
   ]
  },
  {
   "cell_type": "code",
   "execution_count": null,
   "metadata": {},
   "outputs": [],
   "source": [
    "fig = plotTF(ff, cs.getOLTF('DARM', 'CARM', 'err'), label='CARM')\n",
    "plotTF(ff, cs.getOLTF('DARM', 'BS', 'err'), *fig.axes, label='BS')\n",
    "fig.axes[0].legend()\n",
    "fig.axes[0].set_title('Coupling to DARM');"
   ]
  },
  {
   "cell_type": "markdown",
   "metadata": {},
   "source": [
    "#### Calibration\n",
    "\n",
    "The calibration test point `cal` is used to see how a degree of freedom signal injected into the error point propagates throughout the loop. This is necessary, among other things, to make the usual signal referred noise budgets when considering noise sources injected at different points in the loop, as is discussed below."
   ]
  },
  {
   "cell_type": "code",
   "execution_count": null,
   "metadata": {},
   "outputs": [],
   "source": [
    "fig = plotTF(ff, cs.getTF('DARM', 'err', 'DARM', 'cal'), label='Closed loop')\n",
    "plotTF(ff, cs.getTF('DARM', 'err', 'DARM', 'cal', closed=False), *fig.axes, ls='-.', label='Open loop')\n",
    "fig.axes[0].legend()\n",
    "fig.axes[0].set_title('DARM Calibration');"
   ]
  },
  {
   "cell_type": "markdown",
   "metadata": {},
   "source": [
    "<a name=\"darm-nb\"> </a>\n",
    "\n",
    "## Total DARM referred noise\n",
    "\n",
    "This section calculates the total sensing and seismic noise in DARM.\n",
    "\n",
    "#### Propagating noise through control loops\n",
    "\n",
    "Let $S_{t_1}^{1/2}$ be the noise at test point $t_1$. If $H_{t_2, t_1}$ is the *closed loop* transfer function from $t_1$ to $t_2$, then the actual in-loop noise at $t_2$ is $|H_{t_2, t_1}| S_{t_1}^{1/2}$. We usually like to think about what the equivalent noise would be if it was due to noise in the degree of freedom itself injected at the error point, i.e. the signal referred noise. To find this, we have to divide by the closed loop transfer function $H_{t_2,t_\\mathrm{cal}}$ from the calibration test point to $t_2$. The noise is then\n",
    "$$S_{t_2}^{1/2} = \\frac{|H_{t_2, t_1}|}{|H_{t_2, t_\\mathrm{cal}}|} S_{t_1}^{1/2}.$$\n",
    "\n",
    "<p>&nbsp;</p>\n",
    "\n",
    "To see that this reproduces the usual procedure used when making noise budgets when not considering the effects of control loops and auxiliary degrees of freedom, consider a simple SISO loop for the single degree of freedom of interest where the open loop transfer function is just $G=P_\\mathrm{om}C$. Suppose we want to measure at the error signal `err`. The closed loop calibration transfer function, with units $\\mathrm{W}/\\mathrm{m}$, is\n",
    "$$H_{\\mathrm{err}, \\mathrm{cal}} = \\frac{P_\\mathrm{om}}{1 - G}.$$\n",
    "Let $S_\\mathrm{disp}^{1/2}$ be the displacement noise, in $\\mathrm{m}/\\mathrm{Hz}^{1/2}$, and $S_\\mathrm{sens}^{1/2}$ be the sensing noise, in $\\mathrm{W}/\\mathrm{Hz}^{1/2}$. The actual in-loop noise in the error signal, in $\\mathrm{W}/\\mathrm{Hz}^{1/2},$ due to these sources is\n",
    "$$\\bar{S}_\\mathrm{disp}^{1/2} = \\frac{P_\\mathrm{om}}{1 - G} S_\\mathrm{disp}^{1/2}, \\qquad \\bar{S}_\\mathrm{sens}^{1/2} = \\frac{1}{1 - G} S_\\mathrm{sens}^{1/2}.$$\n",
    "Dividing by $H_{\\mathrm{err}, \\mathrm{cal}}$ then gives the equivalent *open loop* noise in the degree of freedom, in $\\mathrm{m}/\\mathrm{Hz}^{1/2}$,\n",
    "$$\\left[ S^{(\\mathrm{dof})}_\\mathrm{disp}\\right]^{1/2} = S_\\mathrm{disp}^{1/2}, \\qquad \\left[ S^{(\\mathrm{dof})}_\\mathrm{sens}\\right]^{1/2} = \\frac{1}{|P_\\mathrm{om}|} S_\\mathrm{sens}^{1/2}.$$\n",
    "\n",
    "This is the usual thing when making noise budgets: we plot displacement noises directly and divide the quantum noise by the optomechanical plant."
   ]
  },
  {
   "cell_type": "code",
   "execution_count": null,
   "metadata": {},
   "outputs": [],
   "source": [
    "# compute the closed loop DARM calibration\n",
    "DARM_cal_closed = np.abs(cs.getTF('DARM', 'err', 'DARM', 'cal'))"
   ]
  },
  {
   "cell_type": "markdown",
   "metadata": {},
   "source": [
    "#### Sensing noise (Shot noise)\n",
    "\n",
    "Sensing noise comes from the quantum noise of the photodiodes getting imposed on the control system. This noise should thus be injected at the `sens` test point. Semiclassically this shotnoise, in $\\mathrm{W}/\\mathrm{Hz}^{1/2}$, is\n",
    "$$S^{1/2} = \\sqrt{2h\\nu P}$$\n",
    "where $P$ is the power on the photodiode of interest. However, this is not applicable in general and does not account for, for example, radiation pressure and squeezed light. Using\n",
    "```python\n",
    "katFR.getQuantumNoise(probe)\n",
    "```\n",
    "computes the correct quantum noise in all situations."
   ]
  },
  {
   "cell_type": "code",
   "execution_count": null,
   "metadata": {},
   "outputs": [],
   "source": [
    "# dictionary of quantum noise for each probe in W/rtHz\n",
    "shot_noise = {probe: katFR.getQuantumNoise(probe) for probe in cs.probes}"
   ]
  },
  {
   "cell_type": "code",
   "execution_count": null,
   "metadata": {},
   "outputs": [],
   "source": [
    "# compute the signal referred sensing noise\n",
    "sensing_noise = {}\n",
    "for probe, sn in shot_noise.items():\n",
    "    # closed loop propagation from probe to error signal\n",
    "    tf = np.abs(cs.getTF('DARM', 'err', probe, 'sens'))\n",
    "    sensing_noise[probe] = tf * sn / DARM_cal_closed"
   ]
  },
  {
   "cell_type": "markdown",
   "metadata": {},
   "source": [
    "#### Displacement noise (Seismic noise, etc.)\n",
    "\n",
    "As described in detail above, displacement noises _at the optic_ should be injected at the `drive` test point. Actuation force noises (not considered here) should be injected at the `act` test point. Force noises at the optic should be converted to displacement noises at the optic and again injected at `drive`.\n",
    "\n",
    "To convert seismic noise at the suspension point to displacement noise at the optics, we should use the `sus2tst` part of the suspension model, which falls like $1/f^6$ above the suspension resonances, here."
   ]
  },
  {
   "cell_type": "code",
   "execution_count": null,
   "metadata": {},
   "outputs": [],
   "source": [
    "# filter the seismic noise through the suspensions\n",
    "seismic_sus = 1e-8 / ff**2  # seismic displacement noise at the suspension point [m/rtHz]\n",
    "seismic_tst = np.abs(sus2tst.computeFilter(ff)) * seismic_sus  # noise at the test mass [m/rtHz]"
   ]
  },
  {
   "cell_type": "code",
   "execution_count": null,
   "metadata": {},
   "outputs": [],
   "source": [
    "# plot the open-loop noise at the suspension point and at the optics\n",
    "fig = plt.figure(figsize=(12, 9))\n",
    "ax = fig.gca()\n",
    "ax.loglog(ff, seismic_tst, label='Test mass')\n",
    "ax.loglog(ff, seismic_sus, label='Suspension point')\n",
    "ax.legend()\n",
    "ax.legend()\n",
    "ax.set_xlabel('Frequency [Hz]')\n",
    "ax.set_ylabel(r'Displacement [$\\mathrm{m}/\\mathrm{Hz}^{1/2}$]')\n",
    "ax.set_title('Seismic Noise')\n",
    "# ax.set_xlim(ff[0], ff[-1])\n",
    "ax.set_xlim(ff[0], 100)\n",
    "ax.set_ylim(1e-20, 1e-4)\n",
    "ax.grid(which='minor', alpha=0.2);"
   ]
  },
  {
   "cell_type": "code",
   "execution_count": null,
   "metadata": {},
   "outputs": [],
   "source": [
    "# Seismic noise at the test masss and beamsplitter in m/rtHz\n",
    "# In more complicated models different optics might have different seismic spectra\n",
    "seismic_noise = {drive: seismic_tst for drive in cs.drives}"
   ]
  },
  {
   "cell_type": "code",
   "execution_count": null,
   "metadata": {},
   "outputs": [],
   "source": [
    "# compute the signal referred displacement noise\n",
    "displacement_noise = {}\n",
    "for drive, sn in seismic_noise.items():\n",
    "    # closed loop propagation from drive to error signal\n",
    "    tf = np.abs(cs.getTF('DARM', 'err', drive, 'drive'))\n",
    "    displacement_noise[drive] = tf * sn / DARM_cal_closed"
   ]
  },
  {
   "cell_type": "markdown",
   "metadata": {},
   "source": [
    "#### Total noise"
   ]
  },
  {
   "cell_type": "code",
   "execution_count": null,
   "metadata": {},
   "outputs": [],
   "source": [
    "# add all the noise sources in quadrature\n",
    "total_noise = np.sum([sn**2 for sn in sensing_noise.values()], axis=0)\n",
    "total_noise += np.sum([dn**2 for dn in displacement_noise.values()], axis=0)\n",
    "total_noise = np.sqrt(total_noise)"
   ]
  },
  {
   "cell_type": "code",
   "execution_count": null,
   "metadata": {},
   "outputs": [],
   "source": [
    "fig = plt.figure(figsize=(12, 9))\n",
    "ax = fig.gca()\n",
    "ax.loglog(ff, sensing_noise['AS_Q'], label='AS_Q Sensing')\n",
    "ax.loglog(ff, sensing_noise['REFL_Q'], label='REFL_Q Sensing')\n",
    "ax.loglog(ff, sensing_noise['REFL_I'], c='xkcd:dark green', label='REFL_I Sensing')\n",
    "ax.loglog(ff, displacement_noise['EX.pos'], c='xkcd:bright red', label='EX Seismic')\n",
    "ax.loglog(ff, displacement_noise['EY.pos'], c='xkcd:tealish green', ls='--', label='EY Seismic')\n",
    "ax.loglog(ff, displacement_noise['BS.pos'], c='xkcd:purple red', label='BS Seismic')\n",
    "ax.loglog(ff, total_noise, 'k--', alpha=0.7, label='Total')\n",
    "ax.legend()\n",
    "ax.grid(which='minor', alpha=0.2)\n",
    "ax.set_xlabel('Frequency [Hz]')\n",
    "ax.set_ylabel(r'Displacement [$\\mathrm{m}/\\mathrm{Hz}^{1/2}$]')\n",
    "ax.set_title('Total DARM Noise')\n",
    "ax.set_xlim(ff[0], ff[-1]);\n",
    "# ax.set_xlim(0.3, 3e3)\n",
    "ax.set_ylim(1e-23, 1e-17);"
   ]
  },
  {
   "cell_type": "markdown",
   "metadata": {},
   "source": [
    "<a name=\"residual\"> </a>\n",
    "\n",
    "## Residual motion\n",
    "\n",
    "As described in detail above, the actual motion of an optic should be probed at the `pos` test point. To compute the total residual noise due to several noise sources injected at different test points, we have to compute the closed-loop transfer function from each of these test points to `pos` and sum the contribution of each noise source in quadrature. The convenience function `getTotalNoiseTo` does this automatically. If `noiseASDs` is a dictionary of noise ASDs for several signals, specified by the keys, to be injected at test point `tst_fr`, the total noise in the signal `sig_to` at test point `tst_to` due to these noise sources is\n",
    "```python\n",
    "cs.getTotalNoiseTo(sig_to, tst_to, tst_fr, noiseASDs)\n",
    "```\n",
    "The function `computeRMS(ff, asd)` calculates the (reverse) cumulative RMS\n",
    "$$\\Delta x(f) = \\left[\\int^{f_\\mathrm{max}}_f S_x(f')\\;\\mathrm{d}f'\\right]^{1/2}$$\n",
    "where $S_x^{1/2}$ is `asd` and $f_\\mathrm{max}$ is the maximum frequency in the frequency vector `ff`."
   ]
  },
  {
   "cell_type": "code",
   "execution_count": null,
   "metadata": {},
   "outputs": [],
   "source": [
    "# Residual motion due to seismic noise\n",
    "residual_seismic = {drive: cs.getTotalNoiseTo(drive, 'pos', 'drive', seismic_noise)\n",
    "                    for drive in cs.drives}\n",
    "rms_seismic = {drive: pytnoise.computeRMS(ff, asd) for drive, asd in residual_seismic.items()}"
   ]
  },
  {
   "cell_type": "code",
   "execution_count": null,
   "metadata": {},
   "outputs": [],
   "source": [
    "# Residual motion due to sensing noise\n",
    "residual_sensing = {drive: cs.getTotalNoiseTo(drive, 'pos', 'sens', shot_noise)\n",
    "                    for drive in cs.drives}\n",
    "rms_sensing = {drive: pytnoise.computeRMS(ff, asd) for drive, asd in residual_sensing.items()}"
   ]
  },
  {
   "cell_type": "code",
   "execution_count": null,
   "metadata": {},
   "outputs": [],
   "source": [
    "# Total residual motion\n",
    "# Add the motion due to seismic noise and shot noise in quadrature\n",
    "residual_total = {drive: np.sqrt(residual_seismic[drive]**2 + residual_sensing[drive]**2)\n",
    "                 for drive in cs.drives}\n",
    "rms_total = {drive: pytnoise.computeRMS(ff, asd) for drive, asd in residual_total.items()}"
   ]
  },
  {
   "cell_type": "code",
   "execution_count": null,
   "metadata": {},
   "outputs": [],
   "source": [
    "fig = plt.figure(figsize=(12, 9))\n",
    "ax = fig.gca()\n",
    "ax.loglog(ff, residual_seismic['EX.pos'], c='xkcd:royal blue', label='EX seismic')\n",
    "ax.loglog(ff, residual_seismic['BS.pos'], c='xkcd:blood red', label='BS seismic')\n",
    "ax.loglog(ff, residual_sensing['EX.pos'], c='xkcd:bright blue', ls='-.', label='EX sensing')\n",
    "ax.loglog(ff, residual_sensing['BS.pos'], c='xkcd:bright red', ls='-.', label='BS sensing')\n",
    "ax.loglog(ff, rms_total['EX.pos'], c='xkcd:greenish', ls='--', label='EX total RMS')\n",
    "ax.loglog(ff, rms_total['BS.pos'], c='xkcd:fuchsia', ls='--', label='BS total RMS')\n",
    "ax.loglog(ff, seismic_tst, c='xkcd:pale orange', ls=':', label='Free swinging')\n",
    "ax.grid(which='minor', alpha=0.2)\n",
    "ax.set_title('Residual Mirror Motion')\n",
    "ax.set_xlabel('Frequency [Hz]')\n",
    "ax.set_ylabel(r'Displacement [$\\mathrm{m}/\\mathrm{Hz}^{1/2}$]')\n",
    "ax.legend()\n",
    "ax.set_ylim(1e-19, 1e-12);\n",
    "ax.set_xlim(0.3, 40);"
   ]
  },
  {
   "cell_type": "code",
   "execution_count": null,
   "metadata": {},
   "outputs": [],
   "source": []
  }
 ],
 "metadata": {
  "kernelspec": {
   "display_name": "finesse",
   "language": "python",
   "name": "finesse"
  },
  "language_info": {
   "codemirror_mode": {
    "name": "ipython",
    "version": 3
   },
   "file_extension": ".py",
   "mimetype": "text/x-python",
   "name": "python",
   "nbconvert_exporter": "python",
   "pygments_lexer": "ipython3",
   "version": "3.7.3"
  }
 },
 "nbformat": 4,
 "nbformat_minor": 2
}
